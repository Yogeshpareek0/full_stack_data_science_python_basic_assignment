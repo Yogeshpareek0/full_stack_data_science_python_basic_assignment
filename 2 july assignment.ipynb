{
 "cells": [
  {
   "cell_type": "markdown",
   "id": "223a00b6-447f-4cab-946e-cc199ca81e48",
   "metadata": {},
   "source": [
    "# 1. Explain what inheritance is in object-oriented programming and why it is used."
   ]
  },
  {
   "cell_type": "markdown",
   "id": "e08eb21d-0aa0-4c50-8e11-82fdc48f7a22",
   "metadata": {},
   "source": [
    "# In object-oriented programming (OOP), inheritance is a mechanism that allows a class to inherit properties and behaviors from another class. It is a fundamental concept in OOP that promotes code reuse and establishes relationships between classes."
   ]
  },
  {
   "cell_type": "code",
   "execution_count": 5,
   "id": "974e02be-ea5b-4f6c-8a27-d4405d95e080",
   "metadata": {},
   "outputs": [
    {
     "name": "stdout",
     "output_type": "stream",
     "text": [
      "my name is yogesh and age is 26\n",
      "i am working in vinayak stonex\n"
     ]
    }
   ],
   "source": [
    "class person:\n",
    "    def __init__(self,name,age):\n",
    "        self.name = name\n",
    "        self.age = age\n",
    "    def display_info(self):\n",
    "        print (f\"my name is {self.name} and age is {self.age}\")\n",
    "class male(person):\n",
    "    def __init__(self,name,age,company_name):\n",
    "        super().__init__(name,age)\n",
    "        self.company_name=company_name\n",
    "    def display_info(self):\n",
    "        super().display_info()\n",
    "        print (f\"i am working in {self.company_name}\" )\n",
    "male=male(\"yogesh\",\"26\",\"vinayak stonex\")\n",
    "male.display_info()  # we have got input \"my name is yogesh and age is 26\" is access by parent class using \"super().\" by help of inheritance.\n",
    "    "
   ]
  },
  {
   "cell_type": "markdown",
   "id": "84759109-1900-477b-b6d4-83647277fec5",
   "metadata": {},
   "source": [
    "# 2. Discuss the concept of single inheritance and multiple inheritance, highlighting their differences and advantages.\r",
    "."
   ]
  },
  {
   "cell_type": "markdown",
   "id": "ddd16638-fbd8-42e6-8da7-1d8dd94211d6",
   "metadata": {},
   "source": [
    "# single inheritance - Single inheritance enables a derived class to inherit properties from a single parent class, thus enabling code reusability and the addition of new features to existing code.\n",
    "# multiple inheritance - multiple inheritance enables a derived class to inherit properties from more than one parent class."
   ]
  },
  {
   "cell_type": "code",
   "execution_count": 4,
   "id": "10e73ac2-7832-4f2d-9cfa-4ed5daf0fc0e",
   "metadata": {},
   "outputs": [
    {
     "name": "stdout",
     "output_type": "stream",
     "text": [
      "this function is in parents class\n",
      "this function is in child class\n"
     ]
    }
   ],
   "source": [
    "#single inheritance\n",
    "class parents:\n",
    "    def func1(self):\n",
    "        print (\"this function is in parents class\")\n",
    "class child (parents):\n",
    "    def func1(self):\n",
    "        super().func1()\n",
    "        print (\"this function is in child class\")\n",
    "obj = child()\n",
    "#dir(obj)\n",
    "obj.func1()\n",
    "# obj.func2()\n",
    "    "
   ]
  },
  {
   "cell_type": "code",
   "execution_count": 74,
   "id": "9dc88dbe-c96e-49ef-a96f-b0903f80a785",
   "metadata": {},
   "outputs": [
    {
     "name": "stdout",
     "output_type": "stream",
     "text": [
      "inherit from 1st parent class\n",
      "inherit from 2nd parent class\n"
     ]
    }
   ],
   "source": [
    "# multiple inheritance - \n",
    "class ParentClass1:\n",
    "    def method1(self):\n",
    "        print(\"inherit from 1st parent class\")\n",
    "\n",
    "class ParentClass2:\n",
    "    def method2(self):\n",
    "        print(\"inherit from 2nd parent class\")\n",
    "\n",
    "class ChildClass(ParentClass1, ParentClass2):\n",
    "    pass\n",
    "childclass = ChildClass()\n",
    "childclass.method1()\n",
    "childclass.method2()"
   ]
  },
  {
   "cell_type": "markdown",
   "id": "42f1e9f4-59d7-4f8b-8ae8-eb26514c9e6d",
   "metadata": {},
   "source": [
    "# 3. Explain the terms \"base class\" and \"derived class\" in the context of inheritance."
   ]
  },
  {
   "cell_type": "markdown",
   "id": "0e85e45c-2ada-4ec1-b0d2-8695ffaf3f45",
   "metadata": {},
   "source": [
    "# Inheritance enables you to create new classes that reuse, extend, and modify the behavior defined in other classes.\n",
    "# base class :-The class whose members are inherited is called the base class.\n",
    "# derived class :-the class that inherits other class members is called the derived class.\n"
   ]
  },
  {
   "cell_type": "code",
   "execution_count": 49,
   "id": "ac2f9450-a136-4934-87c0-e27ec7727c17",
   "metadata": {},
   "outputs": [
    {
     "name": "stdout",
     "output_type": "stream",
     "text": [
      "name is : mamta \n",
      " age is : 25 \n",
      " class_name is : 2nd year bcom\n",
      "................................\n",
      "name is : hari \n",
      " age is : 25 \n",
      " class_name is : 3rd year bcom\n"
     ]
    }
   ],
   "source": [
    "class student:\n",
    "    def __init__(self,name,age,class_name):\n",
    "        self.name = name\n",
    "        self.age = age\n",
    "        self.class_name = class_name\n",
    "    def display_info(self):\n",
    "        print (f\"name is : {self.name} \\n age is : {self.age} \\n class_name is : {self.class_name}\")\n",
    "class girls(student):\n",
    "    def __init__(self,name,age,class_name):\n",
    "        super().__init__(name,age,class_name)\n",
    "    def display_info(self):\n",
    "        super().display_info()\n",
    "class boys (student):\n",
    "    def __init__(self,name,age,class_name):\n",
    "        super().__init__(name,age,class_name)\n",
    "    def display_info(self):\n",
    "        super().display_info()\n",
    "girls = girls(\"mamta\",25,\"2nd year bcom\")\n",
    "girls.display_info()\n",
    "print (\"................................\"\n",
    "      )\n",
    "boys = boys(\"hari\",25,\"3rd year bcom\")\n",
    "boys.display_info()\n",
    "# here class student is a base class and sub class(girls and boys) is derived class \n",
    "\n",
    "    "
   ]
  },
  {
   "cell_type": "markdown",
   "id": "b167460c-665d-4540-b810-03b6923b829d",
   "metadata": {},
   "source": [
    "# 4. What is the significance of the \"protected\" access modifier in inheritance? How does it differ from \"private\" and \"public\" modifiers?\n"
   ]
  },
  {
   "cell_type": "markdown",
   "id": "259632e8-4c64-4ae0-8f96-25b3f23c0b17",
   "metadata": {},
   "source": [
    "# Protected: Conventionally, attributes and methods that are intended to be protected are prefixed with a single underscore _.\n",
    "# private modifier: When a member is declared as private, it is accessible only within the same class. It is not visible to other classes, even subclasses derived from the class where the private member is defined. This provides the highest level information hiding.\n",
    "# protected modifier: The protected modifier allows access to the member within the same class, subclasses, and other classes within the same package. It is similar to private in the sense that it restricts access from outside the class, but it provides additional visibility to subclasses. This means that subclasses can access protected members inherited from their superclass.\n",
    "# public modifier: The public modifier allows access to the member from anywhere. It has the least restriction on accessibility. A public member is visible to all classes and can be accessed by any code that has access to the class containing the public member."
   ]
  },
  {
   "cell_type": "code",
   "execution_count": 57,
   "id": "81960cb1-3317-453f-8718-90ce6c9d0574",
   "metadata": {},
   "outputs": [
    {
     "name": "stdout",
     "output_type": "stream",
     "text": [
      "my name is yogesh pareek\n"
     ]
    }
   ],
   "source": [
    "#public aceess modifier\n",
    "class person:\n",
    "    def __init__(self,name):\n",
    "        self.name=name\n",
    "    def display_info(self):\n",
    "        print  (f\"my name is {self.name}\")\n",
    "class male (person):\n",
    "    def __init__(self,name):\n",
    "        super().__init__(name)\n",
    "    def display_info(self):\n",
    "        super().display_info()\n",
    "male=male(\"yogesh pareek\")\n",
    "male.display_info()\n",
    "\n",
    "    "
   ]
  },
  {
   "cell_type": "code",
   "execution_count": 1,
   "id": "b1288c05-1de2-4c7a-b117-5242b31f4ed6",
   "metadata": {},
   "outputs": [
    {
     "name": "stdout",
     "output_type": "stream",
     "text": [
      "my name is yogesh pareek\n",
      "my name is yogesh\n"
     ]
    }
   ],
   "source": [
    "#protected access modifier\n",
    "class person:\n",
    "    def __init__(self,name):\n",
    "        self._name=name\n",
    "    def _display_info(self):\n",
    "        print  (f\"my name is {self._name}\")\n",
    "class male (person):\n",
    "    def __init__(self,name):\n",
    "        super().__init__(name)\n",
    "    def display_info(self):\n",
    "        super()._display_info()\n",
    "male=male(\"yogesh pareek\")\n",
    "male.display_info()\n",
    "person = person (\"yogesh\")\n",
    "person._display_info()\n",
    "# dir (person)\n",
    "#dir (male)\n"
   ]
  },
  {
   "cell_type": "code",
   "execution_count": 11,
   "id": "1e1fef60-cf84-4c0f-8c94-cb435b61384e",
   "metadata": {},
   "outputs": [
    {
     "name": "stdout",
     "output_type": "stream",
     "text": [
      "my name is yogesh\n",
      "age is 26\n"
     ]
    }
   ],
   "source": [
    "#private access modifier\n",
    "class person:\n",
    "    def __init__(self,name):\n",
    "        self.__name=name\n",
    "    def __display_info(self):\n",
    "        print  (f\"my name is {self.__name}\")\n",
    "    \n",
    "        \n",
    "    def display(self,age):\n",
    "        self.__display_info()\n",
    "        print (f'age is {age}')\n",
    "person = person('yogesh')\n",
    "person.display(26)\n",
    "# dir (person)\n",
    "\n"
   ]
  },
  {
   "cell_type": "markdown",
   "id": "d9f0f104-3860-4af4-8691-352462b1c058",
   "metadata": {},
   "source": [
    "# 5. What is the purpose of the \"super\" keyword in inheritance? Provide an example."
   ]
  },
  {
   "cell_type": "markdown",
   "id": "e5259316-114f-4f88-8477-2f65221b1897",
   "metadata": {},
   "source": [
    "# The \"super\" keyword in object-oriented programming languages, such as Python, is used to refer to the parent class or superclass. It provides a way to call and invoke the methods and constructors of the parent class from within the child class. This is particularly useful in cases where the child class overrides a method or constructor of the parent class and still wants to utilize the functionality provided by the parent class."
   ]
  },
  {
   "cell_type": "code",
   "execution_count": 15,
   "id": "222d8d20-a726-4bcf-8f60-05451536b853",
   "metadata": {},
   "outputs": [
    {
     "name": "stdout",
     "output_type": "stream",
     "text": [
      "Teacher name : krish naik sir\n"
     ]
    }
   ],
   "source": [
    "class person:\n",
    "    def __init__(self,name):\n",
    "        self.name = name\n",
    "    def display_(self):\n",
    "        print (f'Teacher name : {self.name}')\n",
    "class child(person):\n",
    "    def __init__(self,name):\n",
    "        super().__init__(name)\n",
    "    def display(self):\n",
    "        super().display_()\n",
    "child = child('krish naik sir')\n",
    "child.display()\n",
    "#here super keyword is use to call members of parent class"
   ]
  },
  {
   "cell_type": "markdown",
   "id": "c4f9fa84-81b0-4887-b407-426c95beb0a6",
   "metadata": {},
   "source": [
    "# 6. Create a base class called \"Vehicle\" with attributes like \"make\", \"model\", and \"year\".Then, create a derived class called \"Car\" that inherits from \"Vehicle\" and adds an attribute called \"fuel_type\". Implement appropriate methods in both classes.\n",
    "\n"
   ]
  },
  {
   "cell_type": "code",
   "execution_count": 20,
   "id": "510427c0-8271-4406-8e31-6a81712a5644",
   "metadata": {},
   "outputs": [
    {
     "name": "stdout",
     "output_type": "stream",
     "text": [
      "the vehicle model Altima is make by Nissan in year 1992\n",
      "you fill your Nissan Altima with regular grade 87 octane fuel.\n"
     ]
    }
   ],
   "source": [
    "class vehicle:\n",
    "    def __init__(self,make,model,year):\n",
    "        self.make=make\n",
    "        self.model=model\n",
    "        self.year=year\n",
    "    def display_info(self):\n",
    "        print (f'the vehicle model {self.model} is make by {self.make} in year {self.year}')\n",
    "\n",
    "class car(vehicle):\n",
    "    def __init__(self,make,model,year, fuel_type):\n",
    "        super().__init__(make,model,year)\n",
    "        self.fuel_type = fuel_type\n",
    "    def display(self):\n",
    "        super().display_info()\n",
    "        print (f'you fill your {self.make} {self.model} with {self.fuel_type} fuel.')\n",
    "car = car('Nissan','Altima','1992','regular grade 87 octane')\n",
    "car.display()\n",
    "        "
   ]
  },
  {
   "cell_type": "markdown",
   "id": "9e7ed26c-d63e-43a3-932a-7f35457351c1",
   "metadata": {},
   "source": [
    "# 7. Create a base class called \"Employee\" with attributes like \"name\" and \"salary.\"Derive two classes, \"Manager\" and \"Developer,\" from \"Employee.\" Add an additional attribute called \" department\" for the \"Manager\" class and \"programming_language\" for the \"Developer\" class.\n",
    "\n",
    "\n"
   ]
  },
  {
   "cell_type": "code",
   "execution_count": 27,
   "id": "be607122-92c5-4117-bac7-5526ebb511b9",
   "metadata": {},
   "outputs": [
    {
     "name": "stdout",
     "output_type": "stream",
     "text": [
      "Name:krish naik salary : 80000 and department : sales department\n",
      "name:yogesh salary : 50000 and department : python\n"
     ]
    }
   ],
   "source": [
    "class Employee:\n",
    "    def __init__(self,name,salary):\n",
    "        self.name=name\n",
    "        self.salary=salary\n",
    "class manager (Employee):\n",
    "    def __init__(self,name,salary,department):\n",
    "        super().__init__(name,salary)\n",
    "        self.department=department\n",
    "    def manager_detail(self):\n",
    "        print (f'Name:{self.name} salary : {self.salary} and department : {self.department}')\n",
    "class developer (Employee):\n",
    "    def __init__(self,name,salary,programming_language):\n",
    "        super().__init__(name,salary)\n",
    "        self.programming_language=programming_language\n",
    "    def developer_detail(self):\n",
    "        print (f'name:{self.name} salary : {self.salary} and department : {self.programming_language}')\n",
    "manager = manager('krish naik', 80000, 'sales department',)\n",
    "manager.manager_detail()\n",
    "developer=developer('yogesh','50000','python')\n",
    "developer.developer_detail()\n",
    "        "
   ]
  },
  {
   "cell_type": "markdown",
   "id": "11c32071-1c35-4248-ad6c-b4a55101f308",
   "metadata": {},
   "source": [
    "# 8. Design a base class called \"Shape\" with attributes like \"colour\" and \"border_width.\"Create derived classes, \"Rectangle\" and \"Circle,\" that inherit from \"Shape\" and add specific attributes like \"length\" and \"width\" for the \"Rectangle\" class and \"radius\" for the \"Circle\" class.\n",
    "\n",
    "\n"
   ]
  },
  {
   "cell_type": "code",
   "execution_count": 30,
   "id": "7bca9b8f-1a8a-44d1-ab57-3b82a55ddf0c",
   "metadata": {},
   "outputs": [
    {
     "name": "stdout",
     "output_type": "stream",
     "text": [
      "rectangle colour:green, border_width : 2 , length : 10 , width : 5\n",
      "circle colour:blue, border_width : 3 , radius : 3.5\n"
     ]
    }
   ],
   "source": [
    "class shape:\n",
    "    def __init__(self,colour,border_width):\n",
    "        self.colour=colour\n",
    "        self.border_width=border_width\n",
    "class rectangle (shape):\n",
    "     def __init__(self,colour,border_width,length,width):\n",
    "         super().__init__(colour,border_width)\n",
    "         self.length=length\n",
    "         self.width=width\n",
    "     def display_rectangle(self):\n",
    "         print (f'rectangle colour:{self.colour}, border_width : {self.border_width} , length : {self.length} , width : {self.width}')\n",
    "class circle (shape):\n",
    "     def __init__(self,colour,border_width,radius):\n",
    "         super().__init__(colour,border_width)\n",
    "         self.radius=radius\n",
    "        \n",
    "     def display_circle(self):\n",
    "         print (f'circle colour:{self.colour}, border_width : {self.border_width} , radius : {self.radius}')\n",
    "rectangle = rectangle('green',2,10,5)\n",
    "circle=circle('blue',3,3.5)\n",
    "rectangle.display_rectangle()\n",
    "circle.display_circle()\n",
    "         \n",
    "         "
   ]
  },
  {
   "cell_type": "markdown",
   "id": "8456a0b1-7c6e-46e8-955c-331bac981ff6",
   "metadata": {},
   "source": [
    "# 9. Create a base class called \"Device\" with attributes like \"brand\" and \"model.\" Derive two classes, \"Phone\" and \"Tablet,\" from \"Device.\" Add specific attributes like \"screen_size\" for the \"Phone\" class and \"battery_capacity\" for the \"Tablet\" class. \n",
    "\n"
   ]
  },
  {
   "cell_type": "code",
   "execution_count": 32,
   "id": "33eb1784-ef96-4914-bafc-ef3897b67a20",
   "metadata": {},
   "outputs": [
    {
     "name": "stdout",
     "output_type": "stream",
     "text": [
      "screen size of samsung M-12 is : 6.5-inch\n",
      "battery capacity of samsung S7 is : 8000mAh\n"
     ]
    }
   ],
   "source": [
    "class device:\n",
    "    def __init__(self,brand,model):\n",
    "        self.brand=brand\n",
    "        self.model=model\n",
    "class phone(device):\n",
    "    def __init__(self,brand,model,screen_size):\n",
    "        super().__init__(brand,model)\n",
    "        self.screen_size=screen_size\n",
    "    def display_phone(self):\n",
    "        print (f'screen size of {self.brand} {self.model} is : {self.screen_size}')\n",
    "class tablet(device):\n",
    "    def __init__(self,brand,model,battery_capacity):\n",
    "        super().__init__(brand,model)\n",
    "        self.battery_capacity=battery_capacity\n",
    "    def display_tablet(self):\n",
    "        print (f'battery capacity of {self.brand} {self.model} is : {self.battery_capacity}')\n",
    "phone = phone('samsung','M-12','6.5-inch')\n",
    "tablet=tablet('samsung','S7','8000mAh')\n",
    "phone.display_phone()\n",
    "tablet.display_tablet()\n",
    "\n"
   ]
  },
  {
   "cell_type": "markdown",
   "id": "eefae3a2-0aab-41f7-bb4c-f987b9811351",
   "metadata": {},
   "source": [
    "# 10. Create a base class called \"BankAccount\" with attributes like \"account_number\" and \"balance.\" Derive two classes, \"SavingsAccount\" and \"CheckingAccount,\" from \"BankAccount.\" Add specific methods like \"calculate_interest\" for the \"SavingsAccount\" class and \"deduct_fees\" for the \"CheckingAccount\" class.\n",
    "\n",
    "\n"
   ]
  },
  {
   "cell_type": "code",
   "execution_count": 60,
   "id": "0ff8ee47-f3b5-4c17-8a4d-4336d3598da6",
   "metadata": {},
   "outputs": [
    {
     "name": "stdout",
     "output_type": "stream",
     "text": [
      "account number : 612371 , interst amount : 4750.0 , balance : 54750.0\n",
      "account number : 61372 , balance: 49900 , fees : 100\n",
      "account number : 61372 , balance: 44900 , fees : 5000\n"
     ]
    }
   ],
   "source": [
    "class BankAccount:\n",
    "    def __init__(self,account_number,balance):\n",
    "        self.account_number=account_number\n",
    "        self.balance=balance\n",
    "class SavingsAccount(BankAccount):\n",
    "    def __init__(self,account_number,balance):\n",
    "        super().__init__(account_number,balance)\n",
    "    def calculate_interest(self,rate):\n",
    "        interest = self.balance*(rate/100)\n",
    "        self.balance+=interest\n",
    "        print (f'account number : {self.account_number} , interst amount : {interest} , balance : {self.balance}')\n",
    "class CheckingAccount(BankAccount):\n",
    "    def __init__(self,account_number,balance):\n",
    "        super().__init__(account_number,balance)\n",
    "    def deduct_fees (self,fees):\n",
    "        \n",
    "        self.balance-=fees\n",
    "        print (f'account number : {self.account_number} , balance: {self.balance} , fees : {fees}')\n",
    "\n",
    "SavingsAccount = SavingsAccount('612371',50000)  \n",
    "SavingsAccount.calculate_interest(9.5)\n",
    "CheckingAccount=CheckingAccount('61372',50000)\n",
    "CheckingAccount.deduct_fees(100)\n",
    "CheckingAccount.deduct_fees(5000)"
   ]
  },
  {
   "cell_type": "code",
   "execution_count": null,
   "id": "acda0855-57c2-4c13-b88d-0c070b511734",
   "metadata": {},
   "outputs": [],
   "source": []
  }
 ],
 "metadata": {
  "kernelspec": {
   "display_name": "Python 3 (ipykernel)",
   "language": "python",
   "name": "python3"
  },
  "language_info": {
   "codemirror_mode": {
    "name": "ipython",
    "version": 3
   },
   "file_extension": ".py",
   "mimetype": "text/x-python",
   "name": "python",
   "nbconvert_exporter": "python",
   "pygments_lexer": "ipython3",
   "version": "3.10.8"
  }
 },
 "nbformat": 4,
 "nbformat_minor": 5
}
