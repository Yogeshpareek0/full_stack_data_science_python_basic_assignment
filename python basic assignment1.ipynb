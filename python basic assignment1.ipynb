{
 "cells": [
  {
   "cell_type": "markdown",
   "id": "d1206eec-fc12-4bfb-b4f7-befb8a1ca53f",
   "metadata": {},
   "source": [
    "1. In the below elements which of them are values or an expression? eg:- values can be\r\n",
    "integer or string and expressions will be mathematical operaors?\n",
    "# * , \"hello\" , -87.5 , - , / , + , 6 "
   ]
  },
  {
   "cell_type": "markdown",
   "id": "f0880c2d-6797-4a18-8bb5-6e8312bf3971",
   "metadata": {},
   "source": [
    "# * is the operator\n",
    "# \"hello\" is the value\n",
    "# -87.5 is the value\n",
    "# - is the operator\n",
    "# / is the operator\n",
    "# + is the operator\n",
    "# 6 is the value"
   ]
  },
  {
   "cell_type": "markdown",
   "id": "03ad9aa3-fe79-45e2-ada0-540fbe405ce9",
   "metadata": {},
   "source": [
    "2. What is the difference between string and variable?"
   ]
  },
  {
   "cell_type": "markdown",
   "id": "5e3c2dbb-317f-43fd-a207-b091d1101209",
   "metadata": {},
   "source": [
    "string = string is the a sequence of characters and it is a data type.\n",
    "variable = Variables are symbols that you can use to store data in a program. in a variable we can store a string, number and other data type."
   ]
  },
  {
   "cell_type": "markdown",
   "id": "57812f51-e444-4e73-920e-255e190a4ceb",
   "metadata": {},
   "source": [
    "  3. Describe three different data types."
   ]
  },
  {
   "cell_type": "markdown",
   "id": "c5d926ac-c4a2-44fb-a06a-af8dd7f1921e",
   "metadata": {},
   "source": [
    " # Text Type = str, \n",
    " # Numeric Types = int, float, complex, \n",
    "# Boolean Type = bool"
   ]
  },
  {
   "cell_type": "markdown",
   "id": "fa4ce424-4179-4f9a-9fab-8a9c82d8ff46",
   "metadata": {},
   "source": [
    "4. What is an expression made up of? What do all expressions do?"
   ]
  },
  {
   "cell_type": "markdown",
   "id": "543cd425-eee1-4fee-9faf-40480dc341ee",
   "metadata": {},
   "source": [
    "An expression is a combination of values, variables, operators, and calls to functions. Expressions need to be evaluated.All expression evaluated a single value."
   ]
  },
  {
   "cell_type": "markdown",
   "id": "c0f6e85b-3874-442c-aa80-af55688783f2",
   "metadata": {},
   "source": [
    "5. This assignment statements, like spam = 10. What is the difference between an\n",
    "expression and a statement?"
   ]
  },
  {
   "cell_type": "markdown",
   "id": "1c1bd547-50c0-4032-8359-b8bf63d43cd3",
   "metadata": {},
   "source": [
    "Statements represent an action or command e.g print statements, assignment statements. An expression is a combination of operators, variables, values. Expressions need to be evaluated. An expression is something that can be reduced to a value."
   ]
  },
  {
   "cell_type": "markdown",
   "id": "82d7e63b-5eef-48bb-9639-30702755921b",
   "metadata": {},
   "source": [
    "6. After running the following code, what does the variable bacon contain?\n",
    "bacon = 22\n",
    "bacon + 1"
   ]
  },
  {
   "cell_type": "code",
   "execution_count": 4,
   "id": "73f819b1-cdd9-4fbc-8609-1bb63b13520a",
   "metadata": {},
   "outputs": [
    {
     "name": "stdout",
     "output_type": "stream",
     "text": [
      "22\n"
     ]
    }
   ],
   "source": [
    "bacon = 22\n",
    "print (22)\n",
    "#bacon contain 22"
   ]
  },
  {
   "cell_type": "markdown",
   "id": "68f4f291-8fde-4f87-ad7d-658abaf399fd",
   "metadata": {},
   "source": [
    "7. What should the values of the following two terms be?\n",
    "## 'spam'+'spamspam'\n",
    "## 'spam'*3"
   ]
  },
  {
   "cell_type": "code",
   "execution_count": 5,
   "id": "5bc8b0ba-5952-4947-96ce-472b3737d529",
   "metadata": {},
   "outputs": [
    {
     "name": "stdout",
     "output_type": "stream",
     "text": [
      "spamspamspam\n",
      "spamspamspam\n"
     ]
    }
   ],
   "source": [
    "print ('spam'+'spamspam')\n",
    "print ('spam'*3)"
   ]
  },
  {
   "cell_type": "markdown",
   "id": "9092a9bd-a248-4d2c-9367-b1a5765badcc",
   "metadata": {},
   "source": [
    "8. Why is eggs a valid variable name while 100 is invalid?"
   ]
  },
  {
   "cell_type": "markdown",
   "id": "e2063132-1381-4358-9a13-202c0e6ae12a",
   "metadata": {},
   "source": [
    "in python we need to follow some rules for declaring the variable name.\n",
    "we can not create a variable name start with any number but it can be string.\n",
    "if we start with a number than it throw an error.\n",
    "\n"
   ]
  },
  {
   "cell_type": "code",
   "execution_count": 7,
   "id": "1dd77270-25bd-4e8b-b1f6-ed18ee6c85a6",
   "metadata": {},
   "outputs": [
    {
     "ename": "SyntaxError",
     "evalue": "cannot assign to literal here. Maybe you meant '==' instead of '='? (956551675.py, line 1)",
     "output_type": "error",
     "traceback": [
      "\u001b[1;36m  Cell \u001b[1;32mIn [7], line 1\u001b[1;36m\u001b[0m\n\u001b[1;33m    100 = \"hari\"\u001b[0m\n\u001b[1;37m    ^\u001b[0m\n\u001b[1;31mSyntaxError\u001b[0m\u001b[1;31m:\u001b[0m cannot assign to literal here. Maybe you meant '==' instead of '='?\n"
     ]
    }
   ],
   "source": [
    "100 = \"hari\"\n",
    "print (100)"
   ]
  },
  {
   "cell_type": "code",
   "execution_count": 8,
   "id": "daa1bef6-bbb6-4ff0-ac1a-83d94be60963",
   "metadata": {},
   "outputs": [
    {
     "name": "stdout",
     "output_type": "stream",
     "text": [
      "abc\n"
     ]
    }
   ],
   "source": [
    "egg = \"abc\"\n",
    "print (egg)"
   ]
  },
  {
   "cell_type": "markdown",
   "id": "924fb688-a559-4469-bada-fed1a907905f",
   "metadata": {},
   "source": [
    "9. What three functions can be used to get the integer, floating-point number, or string\n",
    "version of a value?"
   ]
  },
  {
   "cell_type": "code",
   "execution_count": 9,
   "id": "36494804-9b40-408f-9481-fe0ee2ee35f5",
   "metadata": {},
   "outputs": [
    {
     "data": {
      "text/plain": [
       "('', 0, 0.0)"
      ]
     },
     "execution_count": 9,
     "metadata": {},
     "output_type": "execute_result"
    }
   ],
   "source": [
    "str() , int() , float()\n"
   ]
  },
  {
   "cell_type": "markdown",
   "id": "3353a49b-60ea-4abe-9540-0aeff9ae0a23",
   "metadata": {},
   "source": [
    "10. Why does this expression cause an error? How can you fix it?\n",
    "'I have eaten'+ 99 + 'burritos.'"
   ]
  },
  {
   "cell_type": "markdown",
   "id": "fa6cbecf-9210-4996-863e-e993e40ad9ed",
   "metadata": {},
   "source": [
    "The expression causes an error because 99 is an integer, and only strings can be concatenated to other strings with the + operator. The correct way is 'I have eaten ' + str(99) + ' burritos.'."
   ]
  }
 ],
 "metadata": {
  "kernelspec": {
   "display_name": "Python 3 (ipykernel)",
   "language": "python",
   "name": "python3"
  },
  "language_info": {
   "codemirror_mode": {
    "name": "ipython",
    "version": 3
   },
   "file_extension": ".py",
   "mimetype": "text/x-python",
   "name": "python",
   "nbconvert_exporter": "python",
   "pygments_lexer": "ipython3",
   "version": "3.10.8"
  }
 },
 "nbformat": 4,
 "nbformat_minor": 5
}
