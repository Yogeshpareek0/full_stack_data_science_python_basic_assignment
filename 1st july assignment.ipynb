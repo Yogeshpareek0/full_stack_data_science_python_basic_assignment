{
 "cells": [
  {
   "cell_type": "markdown",
   "id": "1e817d69-097f-4071-ab06-118a35043689",
   "metadata": {},
   "source": [
    "# 1. What is the primary goal of Object-Oriented Programming (OOP)?"
   ]
  },
  {
   "cell_type": "markdown",
   "id": "c1524eea-ae90-4a5b-9a56-808537f8498f",
   "metadata": {},
   "source": [
    "# The primary goal of Object-Oriented Programming (OOP) is to provide a way to organize complex software systems by modeling them as objects. OOP promotes the concept of objects, which are instances of classes, and enables developers to create modular, reusable, and maintainable code."
   ]
  },
  {
   "cell_type": "markdown",
   "id": "86d4c58e-db0a-45c7-8c53-150ed6fe45f5",
   "metadata": {},
   "source": [
    "# 2. What is an object in Python?"
   ]
  },
  {
   "cell_type": "markdown",
   "id": "31a0d7c3-ae3c-4ea0-b6f0-2ec5caf9237f",
   "metadata": {},
   "source": [
    "# In Python, an object is a fundamental concept in Object-Oriented Programming (OOP). An object is an instance of a class, which define the properties (attributes) and behaviors (methods) that the object will have.It encapsulates data and functions into a single unit, allowing us to interact with and manipulate the data using the defined methods. "
   ]
  },
  {
   "cell_type": "markdown",
   "id": "065365ca-7b81-4496-8374-b6e1f70758e7",
   "metadata": {},
   "source": [
    "# 3. What is a class in Python?"
   ]
  },
  {
   "cell_type": "markdown",
   "id": "e239622b-3d9b-46be-ba00-a6504cc8cb91",
   "metadata": {},
   "source": [
    "# In Python, a class is a blueprint or template for creating objects. It defines the structure, properties (attributes), and behaviors (methods) that objects of that class will have.A class serves as a blueprint from which multiple objects, also known as instances, can be created.\n",
    "# To define a class in Python, you use the class keyword followed by the name of the class. "
   ]
  },
  {
   "cell_type": "code",
   "execution_count": 5,
   "id": "bb23cb15-ce7f-4671-a10a-36dfb44b4fcc",
   "metadata": {},
   "outputs": [
    {
     "name": "stdout",
     "output_type": "stream",
     "text": [
      "the person name yogesh, age is 26 \n"
     ]
    }
   ],
   "source": [
    "class person:\n",
    "    def __init__(self,name,age):\n",
    "        self.name=name\n",
    "        self.age=age\n",
    "    def display_info(self):\n",
    "        print (f\"the person name {self.name}, age is {self.age} \")\n",
    "person=person(\"yogesh\",26)\n",
    "person.display_info()"
   ]
  },
  {
   "cell_type": "markdown",
   "id": "a04493f9-c2a8-4f52-aacd-b437a7132ac8",
   "metadata": {},
   "source": [
    "# 4. What are attributes and methods in a class?"
   ]
  },
  {
   "cell_type": "markdown",
   "id": "a6af4fa1-d6d8-403f-b70d-ca64f4a52599",
   "metadata": {},
   "source": [
    "# attributes : attributes are variable associates with class.Attributes store data/information that describes in object's properties."
   ]
  },
  {
   "cell_type": "markdown",
   "id": "516b9d28-a1f6-4ed5-b55d-6ddf64d3d322",
   "metadata": {},
   "source": [
    "# methods :Methods are functions defined within a class that perform certain actions or operations on the object. They define the behavior of the class and allow objects to perform specific actions."
   ]
  },
  {
   "cell_type": "code",
   "execution_count": 6,
   "id": "f7c06be8-9d99-4001-8fa4-2c9172f3e653",
   "metadata": {},
   "outputs": [
    {
     "name": "stdout",
     "output_type": "stream",
     "text": [
      "the person name yogesh, age is 26 \n"
     ]
    }
   ],
   "source": [
    "class person:\n",
    "    def __init__(self,name,age):\n",
    "        self.name=name #it is a attributes\n",
    "        self.age=age   #it is a attributes\n",
    "    def display_info(self):  #it is a method/function in class\n",
    "        print (f\"the person name {self.name}, age is {self.age} \")\n",
    "person=person(\"yogesh\",26)\n",
    "person.display_info()"
   ]
  },
  {
   "cell_type": "markdown",
   "id": "ee45a6d2-ca82-47ea-b145-2e60a6783ebc",
   "metadata": {},
   "source": [
    "# 5. What is the difference between class variables and instance variables in Python?"
   ]
  },
  {
   "cell_type": "markdown",
   "id": "e899e8e7-b576-4f85-8f4b-b048fe76e368",
   "metadata": {},
   "source": [
    "# Class variables are defined within the class but outside of any class methods. Instance variables are defined within class methods, typically the constructor. Changes made to the class variable affect all instances. Changes made to the instance variable does not affect all instances"
   ]
  },
  {
   "cell_type": "markdown",
   "id": "4528b6a8-4032-48f2-8163-2e78feb57bdf",
   "metadata": {},
   "source": [
    "# 6. What is the purpose of the self parameter in Python class methods?"
   ]
  },
  {
   "cell_type": "markdown",
   "id": "e2e34374-6549-4b57-a280-b731d68c9f7e",
   "metadata": {},
   "source": [
    "# The self parameter is a reference to the current instance of the class, and is used to access variables that belongs to the class."
   ]
  },
  {
   "cell_type": "code",
   "execution_count": 43,
   "id": "9fd8b033-3906-4b3f-992f-9de8c96af425",
   "metadata": {},
   "outputs": [
    {
     "name": "stdout",
     "output_type": "stream",
     "text": [
      "i am yogesh pareek\n"
     ]
    }
   ],
   "source": [
    "class name:\n",
    "    def __init__(self,name):\n",
    "        self.name= name #here self access variable\n",
    "    def __str__(self):\n",
    "        return f\"i am {self.name}\"\n",
    "name = name(\"yogesh pareek\")\n",
    "print (name.__str__())"
   ]
  },
  {
   "cell_type": "markdown",
   "id": "ad1bfb37-db8e-43a3-b917-4f67157c10b9",
   "metadata": {},
   "source": [
    "# 7. For a library management system, you have to design the \"Book\" class with OOP varinciples in mind.\n",
    "# The “Book” class will have following attributes:\n",
    "# a. title: Represents the title of the book.\n",
    "# b. author: Represents the author(s) of the book.\n",
    "# c. isbn: Represents the ISBN (International Standard Book Number) of the book.\n",
    "# d. publication_year: Represents the year of publication of the book.\n",
    "# e. available_copies: Represents the number of copies available for checkout.\n",
    "# The class will also include the following methods:\n",
    "# a. check_out(self): Decrements the available copies by one if there are copies available for checkout.\n",
    "# b. return_book(self): Increments the available copies by one when a book is returned.\n",
    "# c. display_book_info(self): Displays the information about the book, including its attributes and the number of available copies.\n"
   ]
  },
  {
   "cell_type": "code",
   "execution_count": 62,
   "id": "ab43a32c-c40f-40d8-8ef2-f3fd6c6492f9",
   "metadata": {},
   "outputs": [
    {
     "name": "stdout",
     "output_type": "stream",
     "text": [
      "Book Information:\n",
      "Title: half Girlfriend\n",
      "Author(s): chetan Bhagat\n",
      "ISBN: 978-3-16-148410-0\n",
      "Publication Year: 1932\n",
      "Available Copies: 20\n",
      "The book 'half Girlfriend' has been checked out. Available copies: 19\n",
      "The book 'half Girlfriend' has been returned. Available copies: 20\n",
      "The book 'half Girlfriend' has been checked out. Available copies: 19\n",
      "The book 'half Girlfriend' has been checked out. Available copies: 18\n",
      "The book 'half Girlfriend' has been checked out. Available copies: 17\n",
      "Book Information:\n",
      "Title: half Girlfriend\n",
      "Author(s): chetan Bhagat\n",
      "ISBN: 978-3-16-148410-0\n",
      "Publication Year: 1932\n",
      "Available Copies: 17\n"
     ]
    }
   ],
   "source": [
    "class Book:\n",
    "    def __init__(self, title, author, isbn, publication_year, available_copies):\n",
    "        self.title = title\n",
    "        self.author = author\n",
    "        self.isbn = isbn\n",
    "        self.publication_year = publication_year\n",
    "        self.available_copies = available_copies\n",
    "\n",
    "    def check_out(self):\n",
    "        if self.available_copies > 0:\n",
    "            self.available_copies -= 1\n",
    "            print(f\"The book '{self.title}' has been checked out. Available copies: {self.available_copies}\")\n",
    "        else:\n",
    "            print(f\"Sorry, the book '{self.title}' is currently not available for checkout.\")\n",
    "\n",
    "    def return_book(self):\n",
    "        self.available_copies += 1\n",
    "        print(f\"The book '{self.title}' has been returned. Available copies: {self.available_copies}\")\n",
    "\n",
    "    def display_book_info(self):\n",
    "        print(\"Book Information:\")\n",
    "        print(f\"Title: {self.title}\")\n",
    "        print(f\"Author(s): {self.author}\")\n",
    "        print(f\"ISBN: {self.isbn}\")\n",
    "        print(f\"Publication Year: {self.publication_year}\")\n",
    "        print(f\"Available Copies: {self.available_copies}\")\n",
    "\n",
    "\n",
    "# Creating an instance of the Book class\n",
    "book1 = Book(\"half Girlfriend\", \"chetan Bhagat\", \"978-3-16-148410-0\", 1932, 20)\n",
    "\n",
    "# Example usage of the methods\n",
    "book1.display_book_info()\n",
    "book1.check_out()\n",
    "book1.return_book()\n",
    "book1.check_out()\n",
    "book1.check_out()\n",
    "book1.check_out()\n",
    "book1.display_book_info()"
   ]
  },
  {
   "cell_type": "markdown",
   "id": "4b2e402b-7946-469d-953d-657b1862dd95",
   "metadata": {},
   "source": [
    "# 8. For a ticket booking system, you have to design the \"Ticket\" class with OOP\n",
    "# principles in mind. The “Ticket” class should have the following attributes:\n",
    "# a. ticket_id: Represents the unique identifier for the ticket.\n",
    "# b. event_name: Represents the name of the event.\n",
    "# c. event_date: Represents the date of the event.\n",
    "# d. venue: Represents the venue of the event.\n",
    "# e. seat_number: Represents the seat number associated with the ticket.\n",
    "# f. price: Represents the price of the ticket.\n",
    "# g. is_reserved: Represents the reservation status of the ticket.\n",
    "# The class also includes the following methods:\n",
    "# a. reserve_ticket(self): Marks the ticket as reserved if it is not already reserved.\n",
    "# b. cancel_reservation(self): Cancels the reservation of the ticket if it is already reserved.\n",
    "\n",
    "# c. display_ticket_info(self): Displays the information about the ticket, including its attributes and reservation status.\n"
   ]
  },
  {
   "cell_type": "code",
   "execution_count": 96,
   "id": "8f51ee02-badd-44c3-a2fc-d69be2e61951",
   "metadata": {},
   "outputs": [
    {
     "name": "stdout",
     "output_type": "stream",
     "text": [
      "ticket information\n",
      "ticket id : 01\n",
      "event_name : concert\n",
      "event_date : 04-07-2023\n",
      "venue : cricket\n",
      "seat_number : 12\n",
      "price : 850\n",
      "reservation sattus : reserved\n",
      "...................................\n",
      "ticket 01 already reserved\n",
      "ticket information\n",
      "ticket id : 01\n",
      "event_name : concert\n",
      "event_date : 04-07-2023\n",
      "venue : cricket\n",
      "seat_number : 12\n",
      "price : 850\n",
      "reservation sattus : reserved\n",
      "...................................\n",
      "ticket 01 has been cancelled\n",
      "ticket information\n",
      "ticket id : 01\n",
      "event_name : concert\n",
      "event_date : 04-07-2023\n",
      "venue : cricket\n",
      "seat_number : 12\n",
      "price : 850\n",
      "reservation sattus : reserved\n",
      "...................................\n"
     ]
    }
   ],
   "source": [
    "class Ticket:\n",
    "    def __init__(self,ticket_id,event_name,event_date,venue,seat_number,price,is_reserved):\n",
    "        self.ticket_id=ticket_id\n",
    "        self.event_name=event_name\n",
    "        self.event_date=event_date\n",
    "        self.venue=venue\n",
    "        self.seat_number=seat_number\n",
    "        self.price=price\n",
    "        self.is_reserved = is_reserved\n",
    "        \n",
    "    def reserve_ticket(self):\n",
    "        if not self.is_reserved:\n",
    "            self.is_reserved = True\n",
    "            print (f\"ticket {self.ticket_id} has been reserved\")\n",
    "        else:\n",
    "            print (f\"ticket {self.ticket_id} already reserved\")\n",
    "    def cancel_reservation(self):\n",
    "        if self.is_reserved:\n",
    "            \n",
    "            print (f\"ticket {self.ticket_id} has been cancelled\")\n",
    "        else:\n",
    "            print (f\"ticket {self.ticket_id} is not currently reserved\")\n",
    "    def display_ticket_info(self):\n",
    "        print (\"ticket information\")\n",
    "        print (f\"ticket id : {self.ticket_id}\") \n",
    "        print (f\"event_name : {self.event_name}\")\n",
    "        print (f\"event_date : {self.event_date}\")\n",
    "        print (f\"venue : {self.venue}\")\n",
    "        print (f\"seat_number : {self.seat_number}\")\n",
    "        print (f\"price : {self.price}\")\n",
    "        print (f\"reservation sattus : {'reserved' if self.is_reserved else 'not reserved'}\")\n",
    "ticket = Ticket (\"01\",\"concert\",\"04-07-2023\",\"cricket\",12,850, True )\n",
    "ticket.display_ticket_info()\n",
    "print (\"...................................\")\n",
    "ticket.reserve_ticket()\n",
    "ticket.display_ticket_info()\n",
    "print (\"...................................\")\n",
    "ticket.cancel_reservation()\n",
    "ticket.display_ticket_info()\n",
    "print (\"...................................\")\n",
    "\n",
    "\n",
    "\n",
    "        \n",
    "            \n",
    "        "
   ]
  },
  {
   "cell_type": "markdown",
   "id": "c8977b0b-1f43-4d22-a68a-bfe5f897e814",
   "metadata": {},
   "source": [
    "# 9. You are creating a shopping cart for an e-commerce website. Using OOP to model the \"ShoppingCart\" functionality the class should contain following attributes and methods:\n",
    "# a. items: Represents the list of items in the shopping cart.\n",
    "# The class also includes the following methods:\n",
    "# a. add_item(self, item): Adds an item to the shopping cart by appending it to the list of items.\n",
    "# b. remove_item(self, item): Removes an item from the shopping cart if it exists in the list.\n",
    "# c. view_cart(self): Displays the items currently present in the shopping cart.\n",
    "# d. clear_cart(self): Clears all items from the shopping cart by reassigning an empty list to the items attribute.\n"
   ]
  },
  {
   "cell_type": "code",
   "execution_count": 121,
   "id": "72f1d80a-dce0-492a-bde8-8136c233e0bc",
   "metadata": {},
   "outputs": [
    {
     "name": "stdout",
     "output_type": "stream",
     "text": [
      "you shopping cart is : []\n",
      "you shopping cart is : ['dell laptop']\n",
      "you shopping cart is : ['dell laptop', 'acer laptop']\n",
      "you shopping cart is : ['dell laptop', 'acer laptop', 'samsung mobile']\n",
      "you shopping cart is : ['dell laptop', 'acer laptop']\n",
      "you shopping cart is : ['acer laptop']\n"
     ]
    }
   ],
   "source": [
    "class shopping_cart:\n",
    "    def __init__(self,items):\n",
    "        self.items = items\n",
    "    def add_item(self,item):\n",
    "        self.items.append(item)\n",
    "    def remove_item(self,item):\n",
    "        if item in self.items:\n",
    "            self.items.remove(item)\n",
    "        else:\n",
    "            print (\"wrong input\")\n",
    "        \n",
    "    def view_cart(self):\n",
    "        print (f\"you shopping cart is : {self.items}\")\n",
    "    def clear_cart(self):\n",
    "        self.items.clear()\n",
    "shoppingcart = shopping_cart([])\n",
    "#shoppingcart.view_cart()\n",
    "#shoppingcart.add_item(\"dell laptop\")\n",
    "#shoppingcart.view_cart()\n",
    "#shoppingcart.add_item(\"acer laptop\")\n",
    "#shoppingcart.view_cart()\n",
    "#shoppingcart.add_item(\"samsung mobile\")\n",
    "#shoppingcart.view_cart()\n",
    "#shoppingcart.remove_item(\"samsung mobile\")\n",
    "#shoppingcart.view_cart()\n",
    "#shoppingcart.clear_cart()\n",
    "#shoppingcart.view_cart()\n",
    "shoppingcart.view_cart()\n",
    "shoppingcart.add_item(\"dell laptop\")\n",
    "shoppingcart.view_cart()\n",
    "shoppingcart.add_item(\"acer laptop\")\n",
    "shoppingcart.view_cart()\n",
    "shoppingcart.add_item(\"samsung mobile\")\n",
    "shoppingcart.view_cart()\n",
    "shoppingcart.remove_item(\"samsung mobile\")\n",
    "shoppingcart.view_cart()\n",
    "shoppingcart.remove_item(\"dell laptop\")\n",
    "shoppingcart.view_cart()\n",
    "\n",
    "\n",
    "\n",
    "        \n",
    "        \n",
    "        "
   ]
  },
  {
   "cell_type": "markdown",
   "id": "01161ead-7aaa-4cc0-a56e-77ec4e12fce4",
   "metadata": {},
   "source": [
    "# 10. Imagine a school management system. You have to design the \"Student\" class using OOP concepts.The “Student” class has the following attributes:\n",
    "\n",
    "# a. name: Represents the name of the student.\n",
    "# b. age: Represents the age of the student.\n",
    "# c. grade: Represents the grade or class of the student.\n",
    "# d. student_id: Represents the unique identifier for the student.\n",
    "# e. attendance: Represents the attendance record of the student.\n",
    "# The class should also include the following methods:\n",
    "# a. update_attendance(self, date, status): Updates the attendance record of the student for a given date with the provided status (e.g., present or absent).\n",
    "\n",
    "# b. get_attendance(self): Returns the attendance record of the student.\n",
    "# c. get_average_attendance(self): Calculates and returns the average attendance percentage of the student based on their attendance record.\n"
   ]
  },
  {
   "cell_type": "code",
   "execution_count": 127,
   "id": "31e2e214-0b19-4578-ab32-7aec77d7e3ec",
   "metadata": {},
   "outputs": [
    {
     "name": "stdout",
     "output_type": "stream",
     "text": [
      "{'04-07-2023': 'present', '05-07-2023': 'present', '06-07-2023': 'present', '07-07-2023': 'present', '08-07-2023': 'absent', '09-07-2023': 'present', '10-07-2023': 'present', '11-07-2023': 'present'}\n"
     ]
    },
    {
     "data": {
      "text/plain": [
       "87.5"
      ]
     },
     "execution_count": 127,
     "metadata": {},
     "output_type": "execute_result"
    }
   ],
   "source": [
    "class student:\n",
    "    def __init__(self,name,age,grade,student_id):\n",
    "        self.name = name\n",
    "        self.age = age\n",
    "        self.grade= grade\n",
    "        self.student_id = student_id\n",
    "        self.attendance = {}\n",
    "       \n",
    "    def update_attendance(self,status,date):\n",
    "        self.attendance[date] = status\n",
    "    def get_attendance(self):\n",
    "        print (self.attendance)\n",
    "    def get_average_attendance(self):\n",
    "        total_days = len(self.attendance)\n",
    "        present_days = sum(status == 'present' for status in self.attendance.values())\n",
    "        average_attendance = (present_days/total_days)*100 if total_days>0 else 0\n",
    "        return average_attendance\n",
    "student = student(\"yogesh\",26,\"12th\",\"01\")\n",
    "student.update_attendance(\"present\",\"04-07-2023\")\n",
    "student.update_attendance(\"present\",\"05-07-2023\")\n",
    "student.update_attendance(\"present\",\"06-07-2023\")\n",
    "student.update_attendance(\"present\",\"07-07-2023\")\n",
    "student.update_attendance(\"absent\",\"08-07-2023\")\n",
    "student.update_attendance(\"present\",\"09-07-2023\")\n",
    "student.update_attendance(\"present\",\"10-07-2023\")\n",
    "student.update_attendance(\"present\",\"11-07-2023\")\n",
    "student.get_attendance()\n",
    "student.get_average_attendance()\n",
    "\n",
    "\n",
    "\n",
    "        \n",
    "        \n",
    "        "
   ]
  }
 ],
 "metadata": {
  "kernelspec": {
   "display_name": "Python 3 (ipykernel)",
   "language": "python",
   "name": "python3"
  },
  "language_info": {
   "codemirror_mode": {
    "name": "ipython",
    "version": 3
   },
   "file_extension": ".py",
   "mimetype": "text/x-python",
   "name": "python",
   "nbconvert_exporter": "python",
   "pygments_lexer": "ipython3",
   "version": "3.10.8"
  }
 },
 "nbformat": 4,
 "nbformat_minor": 5
}
