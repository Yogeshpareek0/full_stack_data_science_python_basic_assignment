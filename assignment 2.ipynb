{
 "cells": [
  {
   "cell_type": "markdown",
   "id": "91f6281e-d70e-4cfa-a68b-a686ba041eef",
   "metadata": {},
   "source": [
    "# 1.What are the two values of the Boolean data type? How do you write them?"
   ]
  },
  {
   "cell_type": "markdown",
   "id": "5c134d14-233b-48f1-96dc-1eb5dadc07e1",
   "metadata": {},
   "source": [
    "# True: Represents a logical value of true. In programming languages, it is often represented by the keyword \"true\" or the literal value 1.\n",
    "\n",
    "# False: Represents a logical value of false. In programming languages, it is often represented by the keyword \"false\" or the literal value 0."
   ]
  },
  {
   "cell_type": "markdown",
   "id": "994b74b7-2f65-419a-b31e-3e6ca14e11dc",
   "metadata": {},
   "source": [
    "# 2. What are the three different types of Boolean operators?"
   ]
  },
  {
   "cell_type": "markdown",
   "id": "821b8dc9-307b-467e-9561-04961c91d4bb",
   "metadata": {},
   "source": [
    "# 1. AND operator : The AND operator is used to combine two or more Boolean expressions and returns true only if all the expressions are true.in the expression \"A and B\", both A and B must be true for the overall expression to evaluate as true.\n",
    "# 2. OR operator : The OR operators is used to combine two or more boolean expression and return true if at least one of the expression is true.in the expression \"A not B\", if at least one expression is true than evaluate as true.\n",
    "# 3. NOT operator : he NOT operator, also known as the negation operator, is used to invert the value of a Boolean expression. It returns true if the expression is false and returns false if the expression is true."
   ]
  },
  {
   "cell_type": "code",
   "execution_count": 12,
   "id": "2d7cf10c-e270-441a-a8eb-b62f75962ae6",
   "metadata": {},
   "outputs": [
    {
     "name": "stdout",
     "output_type": "stream",
     "text": [
      "False\n",
      "..........................\n",
      "True\n",
      "..........................\n",
      "False\n",
      "..........................\n",
      "True\n"
     ]
    }
   ],
   "source": [
    "a = 10\n",
    "b = 20\n",
    "if a == 10 and b == 10:\n",
    "    print (True)\n",
    "else:\n",
    "    print (False)\n",
    "print ('..........................')\n",
    "if a == 10 or b == 10:\n",
    "    print (True)\n",
    "else:\n",
    "    print (False)\n",
    "print ('..........................')\n",
    "if not(a == 10 or b == 10):\n",
    "    print (True)\n",
    "else:\n",
    "    print (False)\n",
    "print ('..........................')\n",
    "if not(a == 10 and b == 10):\n",
    "    print (True)\n",
    "else:\n",
    "    print (False)\n",
    "    \n",
    "    \n"
   ]
  },
  {
   "cell_type": "markdown",
   "id": "930303f1-12db-40f8-bdd1-7dcebfca6e8a",
   "metadata": {},
   "source": [
    "# 3. Make a list of each Boolean operator's truth tables (i.e. every possible combination of Boolean values for the operator and what it evaluate ).\n"
   ]
  },
  {
   "cell_type": "markdown",
   "id": "70f15b9f-8224-421b-86ee-ab165ee8f6e0",
   "metadata": {},
   "source": [
    "# example \n",
    "# and operator\n",
    "# if True and False       --------  (output - False)\n",
    "# if False and True       --------  (output - False)\n",
    "# if True and True        --------  (output -  True)\n",
    "# if False and False      --------  (output - False)\n",
    "# or operator\n",
    "# if True or False        --------  (output - True)\n",
    "# if False or True        --------  (output - True)\n",
    "# if True or True         --------  (output -  True)\n",
    "# if False or False       --------  (output - False)\n",
    "# not operator\n",
    "# if not (true)           --------  (output - false)\n",
    "# if not (False)          --------  (output - True)\n",
    "\n",
    "    "
   ]
  },
  {
   "cell_type": "markdown",
   "id": "4f45710d-8d35-46ae-b893-3552e07882ba",
   "metadata": {},
   "source": [
    "# 4. What are the values of the following expressions?\n",
    "# (5 &gt; 4) and (3 == 5)\n",
    "# not (5 &gt; 4)\n",
    "# (5 &gt; 4) or (3 == 5)\n",
    "# not ((5 &gt; 4) or (3 == 5))\n",
    "# (True and True) and (True == False)\n",
    "# (not False) or (not True)"
   ]
  },
  {
   "cell_type": "markdown",
   "id": "6914ebb3-0e38-4f66-9b6f-24ef370a8f55",
   "metadata": {},
   "source": [
    "# (5 > 4) and (3 == 5) ---------------------  output - False\n",
    "# not (5 > 4) ------------------------------  output - False\n",
    "# (5 > 4) or (3 == 5) ----------------------  output - True\n",
    "# not ((5 > 4) or (3 == 5)) ----------------  output - False\n",
    "# (True and True) and (True == False) ------  output - False\n",
    "# (not False) or (not True) ----------------  output - True"
   ]
  },
  {
   "cell_type": "markdown",
   "id": "21aa2918-66ec-4ffb-a306-9e24cf867c12",
   "metadata": {},
   "source": [
    "# 5. What are the six comparison operators?"
   ]
  },
  {
   "cell_type": "markdown",
   "id": "d8c3b33c-4c94-475b-b4fe-4ad7e3c3edae",
   "metadata": {},
   "source": [
    "#  equal to (==)\n",
    "# greater than (>) \n",
    "# less than (<)\n",
    "# greater than or equal to (>=)\n",
    "# less than or equal to (<=)\n",
    "# not equal (!=)"
   ]
  },
  {
   "cell_type": "markdown",
   "id": "c304e4bd-39a0-48f0-a92b-5138b3e0c3ca",
   "metadata": {},
   "source": [
    "# 6. How do you tell the difference between the equal to and assignment operators?Describe a condition and when you would use one.\n"
   ]
  },
  {
   "cell_type": "markdown",
   "id": "68421f78-ce02-41ba-b663-ea087c95008f",
   "metadata": {},
   "source": [
    "# equal to (==)\n",
    "# assignment operator (=)"
   ]
  },
  {
   "cell_type": "code",
   "execution_count": 19,
   "id": "d4c9b4d6-f757-466f-87ba-99da5abb0540",
   "metadata": {},
   "outputs": [
    {
     "name": "stdout",
     "output_type": "stream",
     "text": [
      "False\n"
     ]
    }
   ],
   "source": [
    "x = 10    # here assignment operator (=) use for assign a value in x variable it means (=) is assignment operator\n",
    "y = 8      # here assignment operator (=) use for assign a value in y variable it means (=) is assignment operator\n",
    "if x == y:   # here equal to  (==) use for equality comparison\n",
    "    print (True)\n",
    "else:\n",
    "    print (False)\n",
    "\n",
    "# To summarize, the equal to operator (==) is used for equality comparison, while the assignment operator (=) is used to assign values to variables."
   ]
  },
  {
   "cell_type": "markdown",
   "id": "2a5b171b-6543-4370-b9e1-86edd33497fa",
   "metadata": {},
   "source": [
    "# 7. Identify the three blocks in this code:\n",
    "# spam = 0\n",
    "# if spam == 10:\n",
    "# print(&#39;eggs&#39;)\n",
    "# if spam &gt; 5:\n",
    "# print(&#39;bacon&#39;)\n",
    "# else:\n",
    "# print(&#39;ham&#39;)\n",
    "# print(&#39;spam&#39;)\n",
    "# print(&#39;spam&#39;)"
   ]
  },
  {
   "cell_type": "code",
   "execution_count": 47,
   "id": "57d8774b-bc03-49ec-9edd-0fafb9d50169",
   "metadata": {},
   "outputs": [
    {
     "name": "stdout",
     "output_type": "stream",
     "text": [
      "ham\n",
      "spam\n",
      "spam\n"
     ]
    }
   ],
   "source": [
    "spam = 0\n",
    "if spam == 10:\n",
    "    print ('eggs')  # 1st block\n",
    "\n",
    "if spam > 5:\n",
    "    print('bacon')\n",
    "else:\n",
    "    print('ham')\n",
    "    print('spam')  #2nd block\n",
    "\n",
    "\n",
    "print('spam')      #3rd block"
   ]
  },
  {
   "cell_type": "markdown",
   "id": "b57924dd-f830-4f48-8b2b-dd25a094de90",
   "metadata": {},
   "source": [
    "# 8. Write code that prints Hello if 1 is stored in spam, prints Howdy if 2 is stored in spam, and prints Greetings! if anything else is stored in spam.\n"
   ]
  },
  {
   "cell_type": "code",
   "execution_count": 36,
   "id": "68bdca46-a93e-4ed8-a84f-ec673bb60ec5",
   "metadata": {},
   "outputs": [
    {
     "name": "stdin",
     "output_type": "stream",
     "text": [
      "Enter a number 3\n"
     ]
    },
    {
     "name": "stdout",
     "output_type": "stream",
     "text": [
      "Greetings!\n"
     ]
    }
   ],
   "source": [
    "spam = int(input('Enter a number'))\n",
    "if spam == 1:\n",
    "    print ('Hello')\n",
    "elif spam == 2:\n",
    "    print ('Howdy')\n",
    "else:\n",
    "    print ('Greetings!')\n",
    "\n"
   ]
  },
  {
   "cell_type": "markdown",
   "id": "0d914483-90bb-412b-91a4-554a891af320",
   "metadata": {},
   "source": [
    "# 9.If your programme is stuck in an endless loop, what keys you’ll press?"
   ]
  },
  {
   "cell_type": "markdown",
   "id": "dcfc0f63-9277-4e1b-a5bb-fdf1a96e278f",
   "metadata": {},
   "source": [
    "# Ctrl+C: Pressing Ctrl and C keys simultaneously sends an interrupt signal to the Python interpreter, which terminates the program execution.\n",
    "# Ctrl+Break: On some systems, such as Windows, you can try pressing Ctrl and Break keys simultaneously to interrupt the program."
   ]
  },
  {
   "cell_type": "markdown",
   "id": "d3b5f969-bce4-4cc6-bda6-f47967cbfa55",
   "metadata": {},
   "source": [
    "# 10. How can you tell the difference between break and continue?"
   ]
  },
  {
   "cell_type": "markdown",
   "id": "fc6997de-6bc9-45a5-ae82-289db3b48306",
   "metadata": {},
   "source": [
    "# break :- the break statement immediately exits the loop, skipping any remaining iterations.\n",
    "# continue :- The continue statement allows you to selectively skip certain iterations of a loop based on specific conditions, providing more control over the flow of the loop."
   ]
  },
  {
   "cell_type": "code",
   "execution_count": 51,
   "id": "a9b7d2d4-091c-488f-8386-5d3cb7b3e5f9",
   "metadata": {},
   "outputs": [
    {
     "name": "stdout",
     "output_type": "stream",
     "text": [
      "0\n",
      "1\n",
      "2\n",
      "3\n",
      "4\n"
     ]
    }
   ],
   "source": [
    "# break\n",
    "for i in range(10):\n",
    "    if i == 5:\n",
    "        break\n",
    "    print (i)\n",
    "    "
   ]
  },
  {
   "cell_type": "code",
   "execution_count": 54,
   "id": "e58b4d3d-5a9b-42c9-ab8a-988aedb701fa",
   "metadata": {},
   "outputs": [
    {
     "name": "stdout",
     "output_type": "stream",
     "text": [
      "0\n",
      "1\n",
      "2\n",
      "3\n",
      "4\n",
      "6\n",
      "7\n",
      "8\n",
      "9\n"
     ]
    }
   ],
   "source": [
    "# continue\n",
    "for i in range(10):\n",
    "    if i == 5:\n",
    "        continue\n",
    "    print (i)"
   ]
  },
  {
   "cell_type": "markdown",
   "id": "39192183-437c-4a2d-8371-554b6851196f",
   "metadata": {},
   "source": [
    "# 11. In a for loop, what is the difference between range(10), range(0, 10), and range(0, 10, 1)?"
   ]
  },
  {
   "cell_type": "markdown",
   "id": "0324fc90-25ed-4680-952f-dc5d7dc3ba92",
   "metadata": {},
   "source": [
    "# range (start,stop,step)\n",
    "# start(optional) :- the starting value of the sequence.if not given,the default value is 0.\n",
    "# stop :- the ending value of sequence.\n",
    "# step :- The increment or decrement between the numbers in the sequence.\n",
    "\n"
   ]
  },
  {
   "cell_type": "code",
   "execution_count": 62,
   "id": "bc2feca4-d431-4482-8a1c-29d6ba63b401",
   "metadata": {},
   "outputs": [
    {
     "name": "stdout",
     "output_type": "stream",
     "text": [
      "0\n",
      "1\n",
      "2\n",
      "...............................\n",
      "1\n",
      "2\n",
      "...............................\n",
      "1\n",
      "3\n",
      "5\n",
      "7\n",
      "9\n",
      "...............................\n"
     ]
    }
   ],
   "source": [
    "for i in range (3): #stop value\n",
    "    print (i)\n",
    "print ('...............................')\n",
    "for i in range (1,3): #first value is start , second is stop\n",
    "    print (i)\n",
    "print ('...............................')\n",
    "for i in range (1,10,2): #first value is start , second is stop and third is step\n",
    "    print (i)\n",
    "print ('...............................')"
   ]
  },
  {
   "cell_type": "markdown",
   "id": "1bd6bee8-4348-4b0c-b1cc-7ae09eb12a7d",
   "metadata": {},
   "source": [
    "# 12. Write a short program that prints the numbers 1 to 10 using a for loop. Then write an equivalent program that prints the numbers 1 to 10 using a while loop.\n"
   ]
  },
  {
   "cell_type": "code",
   "execution_count": 86,
   "id": "749041eb-0077-4439-b244-e4227dd202c6",
   "metadata": {},
   "outputs": [
    {
     "name": "stdout",
     "output_type": "stream",
     "text": [
      "1\n",
      "2\n",
      "3\n",
      "4\n",
      "5\n",
      "6\n",
      "7\n",
      "8\n",
      "9\n",
      "10\n",
      "............................\n",
      "1\n",
      "2\n",
      "3\n",
      "4\n",
      "5\n",
      "6\n",
      "7\n",
      "8\n",
      "9\n",
      "10\n"
     ]
    }
   ],
   "source": [
    "#using for loop\n",
    "for i in range (1,11):\n",
    "    print (i)\n",
    "print ('............................')\n",
    "#using while loop\n",
    "i = 1\n",
    "while i < 11:\n",
    "    print (i)\n",
    "    i+=1;\n"
   ]
  },
  {
   "cell_type": "markdown",
   "id": "c35745a0-9483-4cbe-8929-4e541caa0151",
   "metadata": {},
   "source": [
    "# 13. If you had a function named bacon() inside a module named spam, how would you call it after importing spam?\n"
   ]
  },
  {
   "cell_type": "markdown",
   "id": "7d77e146-eea6-4526-9575-97eee22115a7",
   "metadata": {},
   "source": [
    "# import spam\n",
    "# spam.bacon()\n"
   ]
  }
 ],
 "metadata": {
  "kernelspec": {
   "display_name": "Python 3 (ipykernel)",
   "language": "python",
   "name": "python3"
  },
  "language_info": {
   "codemirror_mode": {
    "name": "ipython",
    "version": 3
   },
   "file_extension": ".py",
   "mimetype": "text/x-python",
   "name": "python",
   "nbconvert_exporter": "python",
   "pygments_lexer": "ipython3",
   "version": "3.10.8"
  }
 },
 "nbformat": 4,
 "nbformat_minor": 5
}
