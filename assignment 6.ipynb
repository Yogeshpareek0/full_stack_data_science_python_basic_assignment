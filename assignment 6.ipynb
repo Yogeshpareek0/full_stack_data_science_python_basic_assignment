{
 "cells": [
  {
   "cell_type": "markdown",
   "id": "e99274e6-e95e-42f4-beee-7ded14b810aa",
   "metadata": {},
   "source": [
    "# 1. what is the keywords in python? using the keyword library,print all the python keywords.\n",
    "## keywords are reserved words which can not be used as variable name and function name.keywords are immatuble these are not changable.keywords are case sensitive."
   ]
  },
  {
   "cell_type": "code",
   "execution_count": 11,
   "id": "047f0187-31d8-4ab1-a6c8-1142bc61a48b",
   "metadata": {},
   "outputs": [
    {
     "name": "stdout",
     "output_type": "stream",
     "text": [
      "['False', 'None', 'True', 'and', 'as', 'assert', 'async', 'await', 'break', 'class', 'continue', 'def', 'del', 'elif', 'else', 'except', 'finally', 'for', 'from', 'global', 'if', 'import', 'in', 'is', 'lambda', 'nonlocal', 'not', 'or', 'pass', 'raise', 'return', 'try', 'while', 'with', 'yield']\n"
     ]
    }
   ],
   "source": [
    "#load package\n",
    "import keyword\n",
    "print (keyword.kwlist)"
   ]
  },
  {
   "cell_type": "markdown",
   "id": "73b37880-6b70-4ace-b617-46918bac5470",
   "metadata": {},
   "source": [
    "# 2. what are the rules to create variable in python?\n",
    "## variables are declared by writting the variable name and assigning it a value using equal sign (=).a variable name must be start with a letter or underscore(_) character.a varible cannot start with a number.A variable name can contain only alpha-numeric character and underscore.varible name is case sensetive expample (AGE, Age, age) all three variable names are different in python.\n",
    "\n"
   ]
  },
  {
   "cell_type": "code",
   "execution_count": 20,
   "id": "193a3b99-f0f0-4757-b106-4e605a6b5d3c",
   "metadata": {},
   "outputs": [
    {
     "name": "stdout",
     "output_type": "stream",
     "text": [
      "yogesh\n",
      "yogesh pareek yogesh pareek\n",
      "20 30 40\n"
     ]
    }
   ],
   "source": [
    "#variables are declared by writting the variable name and assigning it a value using equal sign (=)\n",
    "Name = \"yogesh\" #here name is a variable\n",
    "print (Name)\n",
    "# a variable name must be start with a letter or underscore(_) character\n",
    "Name = \"yogesh pareek\" # here Name variable start with a letter\n",
    "_name = \"yogesh pareek\" #here _name variable start with underscore character\n",
    "print (Name , _name)\n",
    "# varible cannot start with a number\n",
    "# 1name = \"yogesh\" (it throw an error bcz we can not start a variable name with number)\n",
    "#varible name is case sensetive expample (AGE, Age, age) all three variable names are different in python.\n",
    "age = 20\n",
    "Age = 30\n",
    "AGE = 40\n",
    "print (age , Age , AGE)\n"
   ]
  },
  {
   "cell_type": "markdown",
   "id": "c6539d58-f826-4fd3-a1c9-f3a3d3b60615",
   "metadata": {},
   "source": [
    "# 3.what are the standard and coentions followed for the nomeclature of variable in python to improve code readability and maintainability.\n",
    "## variable name in python can be any length and consist of uppercase,lowercase,digit and underscore. but we need to use lowercase for variable name and individual words can be sseparated by underscores when needed "
   ]
  },
  {
   "cell_type": "markdown",
   "id": "e87c5a63-ce80-4bc9-b503-1669a17370c0",
   "metadata": {},
   "source": [
    " # 4. what will happen if a keyword is used as a variable name.\n",
    " ## if we use keywords as a variable name than it throw an error.because keywords are reserved words. keywords can not be used for ordinary identifier.\n",
    " "
   ]
  },
  {
   "cell_type": "code",
   "execution_count": 3,
   "id": "ac3ff0a0-f0da-473a-944b-972c08ee0591",
   "metadata": {},
   "outputs": [
    {
     "ename": "SyntaxError",
     "evalue": "cannot assign to None (348906596.py, line 2)",
     "output_type": "error",
     "traceback": [
      "\u001b[1;36m  Cell \u001b[1;32mIn [3], line 2\u001b[1;36m\u001b[0m\n\u001b[1;33m    None = 20 # it throw an error - cannot assign to \"None\"\u001b[0m\n\u001b[1;37m    ^\u001b[0m\n\u001b[1;31mSyntaxError\u001b[0m\u001b[1;31m:\u001b[0m cannot assign to None\n"
     ]
    }
   ],
   "source": [
    "#if we use keywords as a variable name\n",
    "None = 20 # it throw an error - cannot assign to \"None\""
   ]
  },
  {
   "cell_type": "markdown",
   "id": "5f3e8377-b589-415d-ab19-b3bd2c6194ca",
   "metadata": {},
   "source": [
    "# 5. for what purpose def keyword is used?\n",
    "## The def () keyword in python is used to define the function that users can use to built their own function."
   ]
  },
  {
   "cell_type": "code",
   "execution_count": 16,
   "id": "25cd7092-a4a2-4708-a7fb-fd37254e2b45",
   "metadata": {},
   "outputs": [
    {
     "data": {
      "text/plain": [
       "52"
      ]
     },
     "execution_count": 16,
     "metadata": {},
     "output_type": "execute_result"
    }
   ],
   "source": [
    "#The def () keyword in python is used to define the function that users can use to built their own function.\n",
    "def sumage (yogesh,anil):\n",
    "    return (yogesh+anil)\n",
    "sumage (24,28)"
   ]
  },
  {
   "cell_type": "markdown",
   "id": "bd08ad37-d7db-4221-ab07-5aa98f0b4d70",
   "metadata": {},
   "source": [
    "# 6. what is operation of this special character \"/\"?\n",
    "# it is used for divide the value\n"
   ]
  },
  {
   "cell_type": "code",
   "execution_count": 19,
   "id": "f8961428-fe08-4a87-b9b4-5a6916306eca",
   "metadata": {},
   "outputs": [
    {
     "name": "stdout",
     "output_type": "stream",
     "text": [
      "10.0\n"
     ]
    }
   ],
   "source": [
    "A = 50\n",
    "B = A/5 # here the character \"/\" is used for divide the value 50\n",
    "print (B)"
   ]
  },
  {
   "cell_type": "markdown",
   "id": "af59bdcd-ec51-4d69-ae48-292d4903cdea",
   "metadata": {},
   "source": [
    "# 7. give an example of the following conditions:\n",
    " # homogeneous list\n",
    " # heterogeneous set\n",
    " # homogeneous tuple"
   ]
  },
  {
   "cell_type": "code",
   "execution_count": 32,
   "id": "96b69efa-f984-4bd3-abe2-ec3b8d519466",
   "metadata": {},
   "outputs": [
    {
     "name": "stdout",
     "output_type": "stream",
     "text": [
      "[1, 2, 5, 10, 20] <class 'list'>\n",
      "{1, 2, 2.5, 'krishna', 'ram'} <class 'set'>\n",
      "('ram', 'shyam', 'govind', 'yogesh') <class 'tuple'>\n"
     ]
    }
   ],
   "source": [
    "#homogeneous list\n",
    "homogeneous_list = [1 , 2 , 5 , 10, 20] #homogeneous list contain same type of data type exapmle the list name \"homogeneous_list\" is containing only number\n",
    "print (homogeneous_list , type (homogeneous_list))\n",
    "#heterogeneous set\n",
    "heterogeneous_set = {1 ,2 , \"krishna\" , \"ram\" , 2.50} # heterogenous can contain different different data type example the set name \"heterogeneous_set\" is containg number datatype, string datatype and floating data type \n",
    "print (heterogeneous_set , type (heterogeneous_set))\n",
    "#homogeneous tuple\n",
    "homogeneous_tuple = (\"ram\" , \"shyam\" , \"govind\" , \"yogesh\") #homogeneous list contain same type of data type \n",
    "print (homogeneous_tuple , type (homogeneous_tuple))"
   ]
  },
  {
   "cell_type": "markdown",
   "id": "e390e622-f89c-47c6-a96b-f61b9376ff65",
   "metadata": {},
   "source": [
    "# 8. Explain the mutable and immutable data types with proper explaination and examples.\n",
    "## mutable - mutable data types can be modified or changed after their creation.\n",
    "## immutable - immutable data types can not be modified or changed after their creation.\n",
    "\n"
   ]
  },
  {
   "cell_type": "code",
   "execution_count": 17,
   "id": "67c32fd5-6f27-4245-8075-e461cd3c5f9f",
   "metadata": {},
   "outputs": [
    {
     "name": "stdout",
     "output_type": "stream",
     "text": [
      "[5, 2, 10, 'yogesh']\n",
      "[5, 2, 'kris naik', 'yogesh'] <class 'list'>\n",
      "(5, 2, 10)\n",
      "10\n"
     ]
    }
   ],
   "source": [
    "#mutable datatype\n",
    "mutable_list = [5, 2, 10, \"yogesh\"]\n",
    "print (mutable_list) #print before changed the value\n",
    "mutable_list [2] = \"kris naik\"\n",
    "print (mutable_list ,type (mutable_list)) #print after changed the index number \"2\"\n",
    "\n",
    "#immutable datatypes\n",
    "immutable_tuple = (5 , 2 , 10)\n",
    "print (immutable_tuple)\n",
    "#immutable_tuple [2] = 5 #it throw an error \"'tuple' object does not support item assignment\".tuple is an immutable datatype\n",
    "print (immutable_tuple [2]) #in tuple we can print the value by index number but can not modified or changed the value by index number.\n"
   ]
  },
  {
   "cell_type": "markdown",
   "id": "66e53827-dc96-41be-aa23-9d34d7e1947b",
   "metadata": {},
   "source": []
  },
  {
   "cell_type": "markdown",
   "id": "0f485db3-2730-4faf-ab9d-cd3fac2d9b59",
   "metadata": {},
   "source": [
    "# 9. write a code to create the given structure in center using for loop.\n",
    "\n",
    "#     *\n",
    "#    ***\n",
    "#   *****\n",
    "#  *******\n",
    "# *********"
   ]
  },
  {
   "cell_type": "code",
   "execution_count": 35,
   "id": "066997b5-d06d-4b43-830b-8b9e585ee364",
   "metadata": {},
   "outputs": [
    {
     "name": "stdout",
     "output_type": "stream",
     "text": [
      "        * \n",
      "\n",
      "      * * * \n",
      "\n",
      "    * * * * * \n",
      "\n",
      "  * * * * * * * \n",
      "\n",
      "* * * * * * * * * \n",
      "\n"
     ]
    }
   ],
   "source": [
    "for i in range (1,6):\n",
    "    for k in range (1,6-i):\n",
    "         print (\" \", end = \" \")\n",
    "    for j in range (1,(2*i-1)+1):\n",
    "        print (\"*\", end = \" \")\n",
    "    print (\"\\n\")\n"
   ]
  },
  {
   "cell_type": "markdown",
   "id": "71c1920e-424b-4e1a-a6a3-d67bb3805edc",
   "metadata": {},
   "source": [
    "# 10. write a code to create the given structure in center using while loop.\n",
    "## |||||||||\n",
    "## |||||||\n",
    "##  |||||\n",
    "##   |||\n",
    "##   |"
   ]
  },
  {
   "cell_type": "code",
   "execution_count": 13,
   "id": "36c9c8cc-0dfe-4fa4-bdf7-d209f35cbf8e",
   "metadata": {},
   "outputs": [
    {
     "name": "stdout",
     "output_type": "stream",
     "text": [
      "||||||||| \n",
      " ||||||| \n",
      "  ||||| \n",
      "   ||| \n",
      "    | \n"
     ]
    }
   ],
   "source": [
    "i = 5\n",
    "while i>=1:\n",
    "    k = i-1\n",
    "    while k<4:\n",
    "        print (\" \" , end = \"\")\n",
    "        k = k + 1 \n",
    "    j = (2*i-1)\n",
    "    while j>=1:\n",
    "        print (\"|\", end = \"\")\n",
    "        j = j - 1\n",
    "       \n",
    "    print (\" \")\n",
    "    i = i - 1\n",
    "    \n"
   ]
  }
 ],
 "metadata": {
  "kernelspec": {
   "display_name": "Python 3 (ipykernel)",
   "language": "python",
   "name": "python3"
  },
  "language_info": {
   "codemirror_mode": {
    "name": "ipython",
    "version": 3
   },
   "file_extension": ".py",
   "mimetype": "text/x-python",
   "name": "python",
   "nbconvert_exporter": "python",
   "pygments_lexer": "ipython3",
   "version": "3.10.8"
  }
 },
 "nbformat": 4,
 "nbformat_minor": 5
}
