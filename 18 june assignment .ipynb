{
 "cells": [
  {
   "cell_type": "markdown",
   "id": "1d8c9c0b-a241-4e6f-b2dc-9f80d0c36d35",
   "metadata": {},
   "source": [
    "# 1. What is the role of the 'else' block in a try-except statement? Provide an example scenario where it would be useful.\n"
   ]
  },
  {
   "cell_type": "markdown",
   "id": "b6c5ea6e-2e8e-43a7-84a3-c9a67482fa6f",
   "metadata": {},
   "source": [
    "# The 'else' block in a try-except statement is an optional block that is executed if no exceptions occur within the corresponding 'try' block"
   ]
  },
  {
   "cell_type": "code",
   "execution_count": 13,
   "id": "3ff02154-d26d-47e5-935b-999d6370264d",
   "metadata": {},
   "outputs": [
    {
     "name": "stdout",
     "output_type": "stream",
     "text": [
      "enter a number : 1\n"
     ]
    },
    {
     "name": "stdout",
     "output_type": "stream",
     "text": [
      "result is : 100.0\n"
     ]
    }
   ],
   "source": [
    "try:\n",
    "    number = int(input('enter a number :'))\n",
    "    result = 100/number\n",
    "except ZeroDivisionError as e:\n",
    "    print (str(e))\n",
    "except ValueError as e:\n",
    "    print (str(e))\n",
    "else:\n",
    "    print (f'result is : {result}')\n",
    "                 "
   ]
  },
  {
   "cell_type": "markdown",
   "id": "475b43f1-f02c-412e-a33f-154d81593da1",
   "metadata": {},
   "source": [
    "# 2.Can a try-except block be nested inside another try-except block? Explain with an example.\n",
    "\n"
   ]
  },
  {
   "cell_type": "markdown",
   "id": "26685418-2c38-4105-8820-dbbb0ccfb7ba",
   "metadata": {},
   "source": [
    "# yes, a try except block be nested inside another try except block. this is known as nested exception handling."
   ]
  },
  {
   "cell_type": "code",
   "execution_count": 19,
   "id": "27dbc03d-8324-460d-b2f0-55f96501d6e3",
   "metadata": {},
   "outputs": [
    {
     "name": "stdout",
     "output_type": "stream",
     "text": [
      "Enter the numerator:  10\n",
      "Enter the denominator:  b\n"
     ]
    },
    {
     "name": "stdout",
     "output_type": "stream",
     "text": [
      "invalid literal for int() with base 10: 'b'\n"
     ]
    }
   ],
   "source": [
    "try:\n",
    "    numerator = int(input(\"Enter the numerator: \"))\n",
    "    denominator = int(input(\"Enter the denominator: \"))\n",
    "    try:\n",
    "        result = result = numerator / denominator\n",
    "    except ZeroDivisionError as e:\n",
    "        print(str(e))\n",
    "    else:\n",
    "        print (f'Result : {result}')\n",
    "except ValueError as e:\n",
    "    print (str(e))"
   ]
  },
  {
   "cell_type": "markdown",
   "id": "814fa6e2-0fb8-408d-94c3-9abfb760c618",
   "metadata": {},
   "source": [
    "# 3. How can you create a custom exception class in Python? Provide an example that demonstrates its usage.\n"
   ]
  },
  {
   "cell_type": "markdown",
   "id": "110a0d35-b191-48db-b2eb-66b0f113e598",
   "metadata": {},
   "source": [
    "# To create a custom exception class in Python, we can define a new class that inherits from the built-in Exception class or any of its subclasses. This allows us to define our own exception types with customized behavior and attributes."
   ]
  },
  {
   "cell_type": "code",
   "execution_count": 23,
   "id": "b7402e88-d1bb-4c74-ac7f-59136ec53378",
   "metadata": {},
   "outputs": [
    {
     "name": "stdout",
     "output_type": "stream",
     "text": [
      "Coannot divide by zero\n",
      "None\n"
     ]
    }
   ],
   "source": [
    "class CustomException (Exception):\n",
    "    pass\n",
    "def divide_number(a,b):\n",
    "    try:\n",
    "        if b==0:\n",
    "            raise CustomException('Coannot divide by zero')\n",
    "        result = a/b\n",
    "        return result\n",
    "    except CustomException as e:\n",
    "        print (str(e))\n",
    "divide_number = divide_number(10,0)\n",
    "print (divide_number)\n",
    "    "
   ]
  },
  {
   "cell_type": "markdown",
   "id": "1b9e9b88-04bc-437e-8a9c-d0ffd06c02b9",
   "metadata": {},
   "source": [
    "# 4. What are some common exceptions that are built-in to Python?"
   ]
  },
  {
   "cell_type": "markdown",
   "id": "83e0f2b4-7d6b-4e42-9990-bdae375dfe59",
   "metadata": {},
   "source": [
    "# 1. ValueError: Raised when a function receives an argument of the correct type but an inappropriate value.\n",
    "# 2. ZeroDivisionError: Raised when division or modulo operation is performed with a zero divisor.\n",
    "# 3. IndexError: Raised when a sequence subscript is out of range.\n",
    "# 4. FileNotFoundError: Raised when a file or directory is requested but cannot be found.\n",
    "# 5. IndexError: Raised when a sequence subscript is out of range.\n",
    "# 6. IOError: Raised when an input/output operation fails."
   ]
  },
  {
   "cell_type": "code",
   "execution_count": 29,
   "id": "a4dcac09-43b1-48b3-98f8-e77831b0d145",
   "metadata": {},
   "outputs": [
    {
     "name": "stdout",
     "output_type": "stream",
     "text": [
      "enter a number 20\n",
      "enter a number 0\n"
     ]
    },
    {
     "name": "stdout",
     "output_type": "stream",
     "text": [
      "division by zero\n"
     ]
    }
   ],
   "source": [
    "#some important built-in exceptions in python\n",
    "try:\n",
    "    num1 = int(input('enter a number'))\n",
    "    num2 = int(input('enter a number'))\n",
    "    result = num1/num2\n",
    "except ZeroDivisionError as e:\n",
    "    print (str(e))\n",
    "except ValueError as e:\n",
    "    print (str(e))\n",
    "else:\n",
    "    print (result)"
   ]
  },
  {
   "cell_type": "markdown",
   "id": "14a0f932-7e75-4084-8bca-df326134363d",
   "metadata": {},
   "source": [
    "# 5. What is logging in Python, and why is it important in software development?"
   ]
  },
  {
   "cell_type": "markdown",
   "id": "f676d56f-b0f4-4c61-ae29-12c8fd60a730",
   "metadata": {},
   "source": [
    "# Logging in Python is a built-in module that provides a flexible and configurable way to collect and record log messages during the execution of a program. It allows developers to track the flow of their code, record important events, and capture diagnostic information for debugging and monitoring purposes."
   ]
  },
  {
   "cell_type": "markdown",
   "id": "53249e6c-4bc9-4c27-a222-df34d20b7b93",
   "metadata": {},
   "source": [
    "# Logging is important in software development for several reasons:\n",
    "# 1. Debugging\n",
    "# 2. Error Tracking\n",
    "# 3. Monitoring and Analysis\n",
    "# 4. Maintenance "
   ]
  },
  {
   "cell_type": "markdown",
   "id": "762df7fe-1cbb-4b3d-b408-976677bda816",
   "metadata": {},
   "source": [
    "# 6. Explain the purpose of log levels in Python logging and provide examples of when each log level would be appropriate.\n"
   ]
  },
  {
   "cell_type": "markdown",
   "id": "6c1f8cfd-4740-494f-a497-7c0a324e5b6a",
   "metadata": {},
   "source": [
    "\n",
    "# Here are the different log levels in increasing order of severity:\n",
    "# \n",
    "# DEBUG: Detailed information, typically of interest only when diagnosing problems.\n",
    "# INFO: Confirmation that things are working as expected.\n",
    "# WARNING: An indication that something unexpected happened, or may happen in the future.The software is still working as expected.\n",
    "# ERROR: More serious problem that prevented the software from performing a function.\n",
    "# CRITICAL: A very serious error, indicating that the program itself may be unable to continue running."
   ]
  },
  {
   "cell_type": "code",
   "execution_count": 38,
   "id": "d8efb100-7f43-4b11-8a68-37cb2272239f",
   "metadata": {},
   "outputs": [
    {
     "name": "stderr",
     "output_type": "stream",
     "text": [
      "DEBUG:root:This is a debug message\n",
      "INFO:root:This is an info message\n",
      "WARNING:root:This is a warning message\n",
      "ERROR:root:This is an error message\n",
      "CRITICAL:root:This is a critical message\n"
     ]
    }
   ],
   "source": [
    "import logging\n",
    "logging.basicConfig(level=logging.DEBUG)\n",
    "logging.debug('This is a debug message')\n",
    "logging.info('This is an info message')\n",
    "logging.warning('This is a warning message')\n",
    "logging.error('This is an error message')\n",
    "logging.critical('This is a critical message')\n"
   ]
  },
  {
   "cell_type": "markdown",
   "id": "24182d32-6302-4e89-86c8-a4eb34a3353f",
   "metadata": {},
   "source": [
    "# 7. What are log formatters in Python logging, and how can you customise the log message format using formatters?\n"
   ]
  },
  {
   "cell_type": "code",
   "execution_count": 52,
   "id": "22272d7c-6a06-4f59-a0cc-0adbb7214ea6",
   "metadata": {},
   "outputs": [
    {
     "name": "stderr",
     "output_type": "stream",
     "text": [
      "2023-07-20 00:14:05,837 - DEBUG - Debug message\n",
      "DEBUG:my_loger:Debug message\n",
      "2023-07-20 00:14:05,839 - INFO - Info message\n",
      "INFO:my_loger:Info message\n",
      "2023-07-20 00:14:05,839 - WARNING - Warning message\n",
      "WARNING:my_loger:Warning message\n",
      "2023-07-20 00:14:05,842 - ERROR - Error message\n",
      "ERROR:my_loger:Error message\n",
      "2023-07-20 00:14:05,844 - CRITICAL - Critical message\n",
      "CRITICAL:my_loger:Critical message\n"
     ]
    }
   ],
   "source": [
    "import logging\n",
    "\n",
    "# Create a formatter with a custom log message format\n",
    "formatter = logging.Formatter('%(asctime)s - %(levelname)s - %(message)s')\n",
    "\n",
    "# Create a console handler and set the formatter\n",
    "console_handler = logging.StreamHandler()\n",
    "console_handler.setFormatter(formatter)\n",
    "\n",
    "# Create a logger and add the console handler\n",
    "logger = logging.getLogger('my_loger')\n",
    "logger.addHandler(console_handler)\n",
    "\n",
    "# Set the logging level\n",
    "logger.setLevel(logging.DEBUG)\n",
    "\n",
    "# Log messages at different levels\n",
    "logger.debug(\"Debug message\")\n",
    "logger.info(\"Info message\")\n",
    "logger.warning(\"Warning message\")\n",
    "logger.error(\"Error message\")\n",
    "logger.critical(\"Critical message\")\n"
   ]
  },
  {
   "cell_type": "markdown",
   "id": "9098267e-520b-4ddc-b440-66d4cec0089f",
   "metadata": {},
   "source": [
    "# 8. How can you set up logging to capture log messages from multiple modules or classes in a Python application?\n"
   ]
  },
  {
   "cell_type": "code",
   "execution_count": 56,
   "id": "4df41c2e-2d81-4bd8-b804-e14efb266e20",
   "metadata": {},
   "outputs": [
    {
     "name": "stderr",
     "output_type": "stream",
     "text": [
      "DEBUG:loger:This is a debug message\n",
      "INFO:loger:This is an info message\n",
      "WARNING:loger:This is a warning message\n",
      "ERROR:loger:This is an error message\n",
      "CRITICAL:loger:This is a critical message\n"
     ]
    }
   ],
   "source": [
    "import logging\n",
    "logging.basicConfig(level=logging.DEBUG, format='%(asctime)s - %(levelname)s - %(message)s')\n",
    "logger = logging.getLogger('loger')\n",
    "\n",
    "logger.debug(\"This is a debug message\")\n",
    "logger.info(\"This is an info message\")\n",
    "logger.warning(\"This is a warning message\")\n",
    "logger.error(\"This is an error message\")\n",
    "logger.critical(\"This is a critical message\")\n"
   ]
  },
  {
   "cell_type": "markdown",
   "id": "4b1c225d-70a8-4b0f-9366-aabe5ff292b3",
   "metadata": {},
   "source": [
    "# 9. What is the difference between the logging and print statements in Python? When should you use logging over print statements in a real-world application?\n"
   ]
  },
  {
   "cell_type": "markdown",
   "id": "f60fa14c-e49c-44b0-8193-08f22abc2f8b",
   "metadata": {},
   "source": [
    "# 1. Configurability: The logging module provides a wide range of configuration options, including log levels, loggers, handlers, formatters, and filters. It allows you to customize and control various aspects of log output behavior, making it more adaptable and suitable for real-world applications. print statements, on the other hand, lack such configurability.\n",
    "# 2. Granularity and Control: The print statement is often used for quick information output. It's suitable for temporary troubleshooting during development. However, the logging module offers different log levels (DEBUG, INFO, WARNING, ERROR, CRITICAL) that allow you to control the level of detail and filter the log output based on severity. This granularity helps in maintaining a clean and manageable log output, especially in large-scale applications.\n",
    "# 3. Level of Detail: The print statement simply outputs the provided data as is, without any additional context or formatting. On the other hand, logging allows you to add valuable context to log messages, such as timestamps, log levels, module names, and customizable formats. Logging messages can be more structured and include additional information that aids in debugging and monitoring."
   ]
  },
  {
   "cell_type": "markdown",
   "id": "a8cae97e-27fb-4316-bd8b-0c583c39ce5b",
   "metadata": {},
   "source": [
    "# 10. Write a Python program that logs a message to a file named \"app.log\" with the\n",
    "# following requirements:\n",
    "# ● The log message should be \"Hello, World!\"\n",
    "# ● The log level should be set to \"INFO.\"\n",
    "# ● The log file should append new log entries without overwriting previous ones."
   ]
  },
  {
   "cell_type": "code",
   "execution_count": 68,
   "id": "08bccc97-0f0e-4a7e-b5b7-1df82eec6a85",
   "metadata": {},
   "outputs": [
    {
     "name": "stderr",
     "output_type": "stream",
     "text": [
      "INFO:root:Hello, World!\n"
     ]
    }
   ],
   "source": [
    "import logging\n",
    "\n",
    "# Configure logging to write to a file\n",
    "logging.basicConfig(filename='app.log', level=logging.INFO, filemode='a', format='%(asctime)s - %(levelname)s - %(message)s')\n",
    "\n",
    "# Log the message\n",
    "logging.info(\"Hello, World!\")\n"
   ]
  },
  {
   "cell_type": "markdown",
   "id": "a2ce4362-ecb8-417b-8c4b-b6e163b08423",
   "metadata": {},
   "source": [
    "# 11. Create a Python program that logs an error message to the console and a file named \"errors.log\" if an exception occurs during the program's execution. The error message should include the exception type and a timestamp.\n",
    "\n"
   ]
  },
  {
   "cell_type": "code",
   "execution_count": 94,
   "id": "06660bc2-238a-4b88-9b7a-4aaf743c6bc0",
   "metadata": {},
   "outputs": [
    {
     "name": "stderr",
     "output_type": "stream",
     "text": [
      "ERROR:__main__:ValueError - 2023-07-20 00:51:46.649639 - Custom Exception\n"
     ]
    },
    {
     "name": "stdout",
     "output_type": "stream",
     "text": [
      "ValueError - 2023-07-20 00:51:46.649639 - Custom Exception\n"
     ]
    }
   ],
   "source": [
    "import logging\n",
    "import datetime\n",
    "\n",
    "# Configure logging to write to console and file\n",
    "logging.basicConfig(level=logging.ERROR, format='%(asctime)s - %(levelname)s - %(message)s')\n",
    "\n",
    "# Create a file handler to write errors to the \"errors.log\" file\n",
    "file_handler = logging.FileHandler('errors.log')\n",
    "file_handler.setLevel(logging.ERROR)\n",
    "file_handler.setFormatter(logging.Formatter('%(asctime)s - %(levelname)s - %(message)s'))\n",
    "\n",
    "# Add the file handler to the logger\n",
    "logger = logging.getLogger(__name__)\n",
    "logger.addHandler(file_handler)\n",
    "\n",
    "try:\n",
    "    # Code that may raise an exception\n",
    "    raise ValueError(\"Custom Exception\")\n",
    "except Exception as e:\n",
    "    # Log the error message to console and file\n",
    "    error_message = f\"{type(e).__name__} - {datetime.datetime.now()} - {str(e)}\"\n",
    "    logger.error(error_message)\n",
    "    print(error_message)\n"
   ]
  }
 ],
 "metadata": {
  "kernelspec": {
   "display_name": "Python 3 (ipykernel)",
   "language": "python",
   "name": "python3"
  },
  "language_info": {
   "codemirror_mode": {
    "name": "ipython",
    "version": 3
   },
   "file_extension": ".py",
   "mimetype": "text/x-python",
   "name": "python",
   "nbconvert_exporter": "python",
   "pygments_lexer": "ipython3",
   "version": "3.10.8"
  }
 },
 "nbformat": 4,
 "nbformat_minor": 5
}
