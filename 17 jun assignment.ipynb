{
 "cells": [
  {
   "cell_type": "markdown",
   "id": "5ec76b23-2abc-4999-8da9-0d3b7e677b95",
   "metadata": {},
   "source": [
    "# 1. What is the role of try and exception block?"
   ]
  },
  {
   "cell_type": "markdown",
   "id": "87ebdccb-bb10-4aa2-80cf-e085f583d344",
   "metadata": {},
   "source": [
    "# The role of a try-except block, also known as a try-catch block in python languages, is to handle exceptions or errors that may occur during the execution of a program.The program executes the statements inside the try block.If an exception occurs during the execution of the try block, the remaining statements in the try block are skipped, and the program looks for an appropriate except block to handle the exception."
   ]
  },
  {
   "cell_type": "markdown",
   "id": "bee05329-6777-4228-ab27-06b0532ee760",
   "metadata": {},
   "source": [
    "# 2. What is the syntax for a basic try-except block?."
   ]
  },
  {
   "cell_type": "markdown",
   "id": "9cf601f2-d9eb-4c92-b1df-5a86337a9e35",
   "metadata": {},
   "source": [
    "# try:\n",
    "#     Code block where an exception might occur\n",
    "# except:\n",
    "#     Code block to handle any other exception\n",
    "\n",
    "# try: This keyword marks the beginning of the try block. The code inside this block is monitored for exceptions.\n",
    "# except: This keyword is followed by the specific exception type(s) you want to handle. If an exception of the specified type occurs, the corresponding except block is executed.\n",
    "# else: Code block to be executed when no exceptions occur in the try block\n",
    "# finally: This optional block is executed regardless of whether an exception occurred or not. It is commonly used for cleanup operations that need to be performed, such as closing files or releasing resources.\n",
    "\n"
   ]
  },
  {
   "cell_type": "markdown",
   "id": "17b525c6-83ea-428e-a47f-61ae5fef2b94",
   "metadata": {},
   "source": [
    "try:\n",
    "    print (x)\n",
    "except:\n",
    "    print (\"x is not defined\")"
   ]
  },
  {
   "cell_type": "markdown",
   "id": "81f30b4f-9043-4849-baf5-4011a03f5665",
   "metadata": {},
   "source": [
    "# 3. What happens if an exception occurs inside a try block and there is no matching except block?"
   ]
  },
  {
   "cell_type": "markdown",
   "id": "48ff9b0c-e74a-44aa-90f3-f82068a365b6",
   "metadata": {},
   "source": [
    "# if an exception occurs inside a try block then the exception look for except that can handle the raise exception.if no matching except block is found then searching for an enclosing try-except block and look for except block that can handle the raise exception.if again no matching except block found then it will show an error message and indicating the unhandled exception."
   ]
  },
  {
   "cell_type": "markdown",
   "id": "ce097f9e-eab0-45b5-a060-eb191a0ea15c",
   "metadata": {},
   "source": [
    "# 4. What is the difference between using a bare except block and specifying a specific exception type?\n"
   ]
  },
  {
   "cell_type": "markdown",
   "id": "e7c54f16-c31b-47b0-9195-229590861fa3",
   "metadata": {},
   "source": [
    "Bare except block:\r\n",
    "When you use a bare except block, without specifying any exception type, it acts as a catch-all for any exception that occurs within the corresponding try block.\n",
    "Specifying a specific exception type:\r\n",
    "When you specify a specific exception type in an except block, you indicate that the block should only handle exceptions of that particular typee"
   ]
  },
  {
   "cell_type": "code",
   "execution_count": 8,
   "id": "b1bf3303-d113-4086-a92d-a00001dd5981",
   "metadata": {},
   "outputs": [
    {
     "name": "stdout",
     "output_type": "stream",
     "text": [
      "not found x\n"
     ]
    }
   ],
   "source": [
    "try :\n",
    "    print (X)\n",
    "except:\n",
    "    print (\"not found x\") #bare except"
   ]
  },
  {
   "cell_type": "code",
   "execution_count": 16,
   "id": "afef5f1f-3b8d-4738-9f65-583a3070d7e0",
   "metadata": {},
   "outputs": [
    {
     "name": "stdout",
     "output_type": "stream",
     "text": [
      "...................\n",
      "we cannot divide any number by zero\n"
     ]
    }
   ],
   "source": [
    "#x = 10\n",
    "#y = 0\n",
    "#zerodivision = x/y\n",
    "#print (zerodivision)\n",
    "print (\"...................\")\n",
    "\n",
    "try:\n",
    "    x = 10\n",
    "    y = 0\n",
    "    zerodivision = x/y \n",
    "    print (zerodivision)\n",
    "except ZeroDivisionError:\n",
    "    print (\"we cannot divide any number by zero\")"
   ]
  },
  {
   "cell_type": "markdown",
   "id": "ffa250aa-f97c-4a32-bff7-44a0c05db304",
   "metadata": {},
   "source": [
    "# 5. Can you have nested try-except blocks in Python? If yes, then give an example."
   ]
  },
  {
   "cell_type": "markdown",
   "id": "1f610c35-53ff-4485-8eee-44376d3e2851",
   "metadata": {},
   "source": [
    "# Yes, you can have nested try-except blocks in Python. This means that we can have a try-except block inside another try-except block. This allows for more granular exception handling and the ability to handle exceptions at different levels of code execution."
   ]
  },
  {
   "cell_type": "code",
   "execution_count": 17,
   "id": "34270755-dd5e-4c17-9e63-4658b95922ff",
   "metadata": {},
   "outputs": [
    {
     "name": "stdout",
     "output_type": "stream",
     "text": [
      "Outer try block started.\n",
      "Inner try block started.\n",
      "Error: Division by zero occurred in the inner try block.\n",
      "Inner finally block executed.\n",
      "This line will be executed after the inner try-except-finally block.\n",
      "Outer finally block executed.\n"
     ]
    }
   ],
   "source": [
    "try:\n",
    "    # Outer try block\n",
    "    # Code that might raise an exception\n",
    "    print(\"Outer try block started.\")\n",
    "    \n",
    "    try:\n",
    "        # Inner try block\n",
    "        # Code that might raise an exception\n",
    "        print(\"Inner try block started.\")\n",
    "        result = 10 / 0  # This will raise a ZeroDivisionError\n",
    "        print(\"This line will not be executed.\")\n",
    "    \n",
    "    except ZeroDivisionError:\n",
    "        # Inner except block to handle ZeroDivisionError\n",
    "        print(\"Error: Division by zero occurred in the inner try block.\")\n",
    "    \n",
    "    finally:\n",
    "        # Inner finally block\n",
    "        print(\"Inner finally block executed.\")\n",
    "    \n",
    "    print(\"This line will be executed after the inner try-except-finally block.\")\n",
    "    \n",
    "except:\n",
    "    # Outer except block to handle any other exception\n",
    "    print(\"An error occurred in the outer try block.\")\n",
    "\n",
    "finally:\n",
    "    # Outer finally block\n",
    "    print(\"Outer finally block executed.\")"
   ]
  },
  {
   "cell_type": "markdown",
   "id": "b6af0119-2bff-4c8a-9ee2-6c806b1e6c5b",
   "metadata": {},
   "source": [
    "# 6. Can we use multiple exception blocks, if yes then give an example."
   ]
  },
  {
   "cell_type": "markdown",
   "id": "46aa349d-67d0-4714-9b63-eaa43a5e97a0",
   "metadata": {},
   "source": [
    "# yes we can use multiple exception block."
   ]
  },
  {
   "cell_type": "code",
   "execution_count": 19,
   "id": "3c576e8f-7b6d-4bd3-a18a-081c551da5f9",
   "metadata": {},
   "outputs": [
    {
     "name": "stdin",
     "output_type": "stream",
     "text": [
      "Enter a number:  0\n"
     ]
    },
    {
     "name": "stdout",
     "output_type": "stream",
     "text": [
      "Error: Division by zero occurred.\n",
      "finally execution complete\n",
      "Program execution continues after the try-except blocks.\n"
     ]
    }
   ],
   "source": [
    "try:\n",
    "    # Code that might raise exceptions\n",
    "    x = int(input(\"Enter a number: \"))  # This can raise a ValueError or TypeError\n",
    "    result = 10 / x  # This can raise a ZeroDivisionError\n",
    "    print(\"Result:\", result)\n",
    "\n",
    "except ValueError:\n",
    "    # Handle ValueError\n",
    "    print(\"Error: Invalid input. Please enter a valid number.\")\n",
    "\n",
    "except TypeError:\n",
    "    # Handle TypeError\n",
    "    print(\"Error: Input must be a valid number.\")\n",
    "\n",
    "except ZeroDivisionError:\n",
    "    # Handle ZeroDivisionError\n",
    "    print(\"Error: Division by zero occurred.\")\n",
    "\n",
    "except:\n",
    "    # Handle any other exception\n",
    "    print(\"An unknown error occurred.\")\n",
    "finally:\n",
    "    print (\"finally execution complete\")\n",
    "\n",
    "print(\"Program execution continues after the try-except blocks.\")\n"
   ]
  },
  {
   "cell_type": "markdown",
   "id": "2b0bf3a4-20f3-4bc3-92b5-dce75d3035bb",
   "metadata": {},
   "source": [
    "# 7. Write the reason due to which following errors are raised:\n",
    "# a. EOFError\n",
    "# b. FloatingPointError\n",
    "# c. IndexError\n",
    "# d. MemoryError\n",
    "# e. OverflowError\n",
    "# f. TabError\n",
    "# g. ValueError"
   ]
  },
  {
   "cell_type": "markdown",
   "id": "2ac6084d-9824-4b77-ac88-4307d883ba1c",
   "metadata": {},
   "source": [
    "# a. EOFError - Raise when the input() function hits an end-of-file condition(EOF)\n",
    "# b. FloatingPointError - raise when a floating point operation fails.\n",
    "# c. IndexError - raised when a sequence index is out of range\n",
    "# d. MemoryError - raised when a an operation run out of memory\n",
    "# e. OverflowError - raised when the result of an arithmetic operation is too large to be expressed\n",
    "# f. TabError - raised when indentation contains mix tab and spaces.\n",
    "# g ValueError - raised when a built-in function or any other function received an argument that has thr right type but an inappropriate value."
   ]
  },
  {
   "cell_type": "markdown",
   "id": "66fee27e-ac41-4ff1-b7c4-a860ae4121b9",
   "metadata": {},
   "source": [
    "# 8. Write code for the following given scenario and add try-exception block to it.\n",
    "# a. Program to divide two numbers\n",
    "# b. Program to convert a string to an integer\n",
    "# c. Program to access an element in a list\n",
    "# d. Program to handle a specific exception\n",
    "# e. Program to handle any exception"
   ]
  },
  {
   "cell_type": "code",
   "execution_count": 58,
   "id": "a1679af9-ee41-40cc-9866-81e96c9d7d76",
   "metadata": {},
   "outputs": [
    {
     "name": "stdin",
     "output_type": "stream",
     "text": [
      "Enter a number:  10\n",
      "Enter a number:  0\n"
     ]
    },
    {
     "name": "stdout",
     "output_type": "stream",
     "text": [
      "Error: Division by zero is not allowed.\n"
     ]
    }
   ],
   "source": [
    "# a. Program to divide two numbers\n",
    "try:\n",
    "    num1 = int(input(\"Enter a number: \"))\n",
    "    num2 = int(input(\"Enter a number: \"))\n",
    "    result = num1 / num2\n",
    "    print(\"Result:\", result)\n",
    "\n",
    "except ZeroDivisionError:\n",
    "    print(\"Error: Division by zero is not allowed.\")\n"
   ]
  },
  {
   "cell_type": "code",
   "execution_count": 55,
   "id": "bf69b794-96ae-406a-843f-559db1cbb8a1",
   "metadata": {},
   "outputs": [
    {
     "name": "stdin",
     "output_type": "stream",
     "text": [
      "Enter a number as a string:  fnvio\n"
     ]
    },
    {
     "name": "stdout",
     "output_type": "stream",
     "text": [
      "Error: Invalid input. Please enter a valid integer as a string.\n"
     ]
    }
   ],
   "source": [
    "# b. Program to convert a string to an integer¶\n",
    "try:\n",
    "    string_input = input(\"Enter a number as a string: \")\n",
    "    number = int(string_input)\n",
    "    print(\"Number:\", number)\n",
    "\n",
    "except ValueError:\n",
    "    print(\"Error: Invalid input. Please enter a valid integer as a string.\")\n"
   ]
  },
  {
   "cell_type": "code",
   "execution_count": 62,
   "id": "585ff95a-1480-43e7-a913-d15113abd85a",
   "metadata": {},
   "outputs": [
    {
     "name": "stdin",
     "output_type": "stream",
     "text": [
      "Enter an index to access an element:  10\n"
     ]
    },
    {
     "name": "stdout",
     "output_type": "stream",
     "text": [
      "Error: Invalid index. Please enter a valid index no. within the range of the list.\n"
     ]
    }
   ],
   "source": [
    "# c. Program to access an element in a list\n",
    "try:\n",
    "    my_list = [1, 2, 3, 4, 5]\n",
    "    index = int(input(\"Enter an index to access an element: \"))\n",
    "    element = my_list[index]\n",
    "    print(\"Element:\", element)\n",
    "\n",
    "except IndexError:\n",
    "    print(\"Error: Invalid index. Please enter a valid index no. within the range of the list.\")"
   ]
  },
  {
   "cell_type": "code",
   "execution_count": 68,
   "id": "474afa73-2fb6-4eda-9d0a-70bcdd5447b4",
   "metadata": {},
   "outputs": [
    {
     "name": "stdin",
     "output_type": "stream",
     "text": [
      "Enter a number:  0\n"
     ]
    },
    {
     "name": "stdout",
     "output_type": "stream",
     "text": [
      "Error: Division by zero occurred.\n"
     ]
    }
   ],
   "source": [
    "# d. Program to handle a specific exception\n",
    "try:\n",
    "    x = int(input(\"Enter a number: \"))\n",
    "    result = 10 / x\n",
    "    print(\"Result:\", result)\n",
    "\n",
    "except ValueError:\n",
    "    print(\"Error: Invalid input. Please enter a valid number.\")\n",
    "\n",
    "except ZeroDivisionError:\n",
    "    print(\"Error: Division by zero occurred.\")\n",
    "\n",
    "except Exception as e:\n",
    "    print(\"Error:\", e)\n"
   ]
  },
  {
   "cell_type": "code",
   "execution_count": 72,
   "id": "5653ac6c-7d47-41aa-a2a3-2f319d0de9dc",
   "metadata": {},
   "outputs": [
    {
     "name": "stdin",
     "output_type": "stream",
     "text": [
      "enter a number 10\n",
      "enter a number 0\n"
     ]
    },
    {
     "name": "stdout",
     "output_type": "stream",
     "text": [
      "An error occurred: division by zero\n"
     ]
    }
   ],
   "source": [
    "# e. Program to handle any exception\n",
    "try:\n",
    "    number1 = int(input(\"enter a number\"))\n",
    "    number2 = int(input(\"enter a number\"))\n",
    "    result = number1/number2\n",
    "\n",
    "except Exception as e:\n",
    "    print(\"An error occurred:\", e)\n"
   ]
  }
 ],
 "metadata": {
  "kernelspec": {
   "display_name": "Python 3 (ipykernel)",
   "language": "python",
   "name": "python3"
  },
  "language_info": {
   "codemirror_mode": {
    "name": "ipython",
    "version": 3
   },
   "file_extension": ".py",
   "mimetype": "text/x-python",
   "name": "python",
   "nbconvert_exporter": "python",
   "pygments_lexer": "ipython3",
   "version": "3.10.8"
  }
 },
 "nbformat": 4,
 "nbformat_minor": 5
}
